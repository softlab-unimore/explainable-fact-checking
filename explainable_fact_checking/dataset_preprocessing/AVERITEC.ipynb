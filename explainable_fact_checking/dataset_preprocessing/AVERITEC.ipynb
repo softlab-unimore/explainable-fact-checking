{
 "cells": [
  {
   "metadata": {
    "ExecuteTime": {
     "end_time": "2024-09-27T15:45:56.013664Z",
     "start_time": "2024-09-27T15:45:55.747146Z"
    }
   },
   "cell_type": "code",
   "source": [
    "import os\n",
    "\n",
    "import pandas as pd\n",
    "\n",
    "os.chdir('/homes/bussotti/XFC2/code')"
   ],
   "id": "14e523cb7c5ebcb9",
   "outputs": [],
   "execution_count": 1
  },
  {
   "metadata": {
    "ExecuteTime": {
     "end_time": "2024-09-27T15:46:00.891301Z",
     "start_time": "2024-09-27T15:45:58.065382Z"
    }
   },
   "cell_type": "code",
   "source": [
    "%matplotlib inline\n",
    "%load_ext autoreload\n",
    "%autoreload 2\n",
    "from explainable_fact_checking.charts.notebook_utility import *\n",
    "import nltk\n",
    "from rank_bm25 import BM25Okapi"
   ],
   "id": "69dbc9233c731c6f",
   "outputs": [
    {
     "name": "stdout",
     "output_type": "stream",
     "text": [
      "/home/bussotti/.conda/envs/feverous2/bin/python3\n"
     ]
    }
   ],
   "execution_count": 2
  },
  {
   "metadata": {},
   "cell_type": "markdown",
   "source": "# LOAD",
   "id": "d0568163af2522a6"
  },
  {
   "metadata": {
    "ExecuteTime": {
     "end_time": "2024-09-27T15:46:00.932069Z",
     "start_time": "2024-09-27T15:46:00.893319Z"
    }
   },
   "cell_type": "code",
   "source": [
    "from explainable_fact_checking.dataset_preprocessing.pre import preprocess_AVERITEC, convert_qa_dict_2txt, qa2txt\n",
    "from explainable_fact_checking.datasets_loaders import load_std_dataset\n",
    "from explainable_fact_checking.datasets_loaders import RobertaTokenizerWrapper"
   ],
   "id": "33b57eb81dcf8c8f",
   "outputs": [],
   "execution_count": 3
  },
  {
   "metadata": {
    "ExecuteTime": {
     "end_time": "2024-09-27T15:46:00.968277Z",
     "start_time": "2024-09-27T15:46:00.933634Z"
    }
   },
   "cell_type": "code",
   "source": [
    "from huggingface_hub import hf_hub_download\n",
    "\n",
    "ds_path = os.path.join(xfc.experiment_definitions.C.DATASET_DIR_V2, 'AVERITEC')\n",
    "preprocessed_path = os.path.join(ds_path, 'preprocessed')\n",
    "os.makedirs(preprocessed_path, exist_ok=True)\n",
    "files = ['train', 'dev', 'test']\n",
    "files_path = {}\n",
    "for f in files:\n",
    "    files_path[f] = hf_hub_download(repo_id=\"chenxwh/AVeriTeC\", filename='data/' + f + '.json', cache_dir=ds_path,\n",
    "                                    revision='7f83bddcd8f16570446c51578ab3ddf6a9d350b1')"
   ],
   "id": "a350e535bccbc313",
   "outputs": [],
   "execution_count": 4
  },
  {
   "metadata": {
    "ExecuteTime": {
     "end_time": "2024-09-27T15:46:01.066504Z",
     "start_time": "2024-09-27T15:46:00.970395Z"
    }
   },
   "cell_type": "code",
   "source": [
    "datasets = {}\n",
    "for f in files:\n",
    "    datasets[f] = json.load(open(files_path[f]))"
   ],
   "id": "701c80b4644a7789",
   "outputs": [],
   "execution_count": 5
  },
  {
   "metadata": {
    "ExecuteTime": {
     "end_time": "2024-09-27T15:46:01.098051Z",
     "start_time": "2024-09-27T15:46:01.068085Z"
    }
   },
   "cell_type": "code",
   "source": [
    "e0 = datasets['train'][0]\n",
    "e0"
   ],
   "id": "a657d4efa0e27a2",
   "outputs": [
    {
     "data": {
      "text/plain": [
       "{'claim': 'Hunter Biden had no experience in Ukraine or in the energy sector when he joined the board of Burisma.',\n",
       " 'required_reannotation': False,\n",
       " 'label': 'Supported',\n",
       " 'justification': 'No former experience stated.',\n",
       " 'claim_date': '25-8-2020',\n",
       " 'speaker': 'Pam Bondi',\n",
       " 'original_claim_url': None,\n",
       " 'fact_checking_article': 'https://web.archive.org/web/20210111003633/https://www.politifact.com/article/2020/aug/26/fact-checking-second-night-2020-rnc/',\n",
       " 'reporting_source': 'Speech at The Republican National Convention',\n",
       " 'location_ISO_code': 'US',\n",
       " 'claim_types': ['Position Statement'],\n",
       " 'fact_checking_strategies': ['Written Evidence'],\n",
       " 'questions': [{'question': 'Did Hunter Biden have any experience in the energy sector at the time he joined the board of the  Burisma energy company in 2014',\n",
       "   'answers': [{'answer': 'No',\n",
       "     'answer_type': 'Boolean',\n",
       "     'source_url': 'https://en.wikipedia.org/wiki/Hunter_Biden',\n",
       "     'source_medium': 'Web text',\n",
       "     'boolean_explanation': \"Hunter bidens previous career history does not include work for energy company's.\",\n",
       "     'cached_source_url': 'https://web.archive.org/web/20230323135844/https://en.wikipedia.org/wiki/Hunter_Biden'}]},\n",
       "  {'question': 'Did Hunter Biden have any experience in Ukraine at the time he joined the board of the  Burisma energy company in 2014',\n",
       "   'answers': [{'answer': 'No',\n",
       "     'answer_type': 'Boolean',\n",
       "     'source_url': 'https://en.wikipedia.org/wiki/Hunter_Biden',\n",
       "     'source_medium': 'Web text',\n",
       "     'boolean_explanation': \"Hunter Bidens previous career history does not include working with Ukrainian company's.\",\n",
       "     'cached_source_url': 'https://web.archive.org/web/20230323135844/https://en.wikipedia.org/wiki/Hunter_Biden'}]}],\n",
       " 'cached_original_claim_url': None}"
      ]
     },
     "execution_count": 6,
     "metadata": {},
     "output_type": "execute_result"
    }
   ],
   "execution_count": 6
  },
  {
   "metadata": {},
   "cell_type": "markdown",
   "source": "# Preprocessing",
   "id": "16a93efd381015f1"
  },
  {
   "metadata": {
    "ExecuteTime": {
     "end_time": "2024-09-27T15:46:01.133756Z",
     "start_time": "2024-09-27T15:46:01.099280Z"
    }
   },
   "cell_type": "code",
   "source": [
    "question_answer_list = [x['questions'] for dataset in [datasets['train'], datasets['dev']] for x in dataset]\n",
    "answer_distinct_fields = set()\n",
    "for question_answer in question_answer_list:\n",
    "    for qa in question_answer:\n",
    "        for answer in qa['answers']:\n",
    "            answer_distinct_fields.update(set(answer.keys()))"
   ],
   "id": "be949eb2177ce409",
   "outputs": [],
   "execution_count": 7
  },
  {
   "metadata": {
    "ExecuteTime": {
     "end_time": "2024-09-27T15:46:01.824015Z",
     "start_time": "2024-09-27T15:46:01.135286Z"
    }
   },
   "cell_type": "code",
   "source": [
    "for prepend_question in [False, True]:\n",
    "    for dataset in [datasets['train'], datasets['dev'], datasets['test']]:\n",
    "        preprocess_AVERITEC(dataset, prepend_question=prepend_question)\n",
    "    for f in files:\n",
    "        t_name = f + ('_no_question' if prepend_question is False else '')\n",
    "        with open(os.path.join(preprocessed_path, t_name + '.json'), 'w') as f_out:\n",
    "            json.dump(datasets[f], f_out)"
   ],
   "id": "381cae9b4b6f4",
   "outputs": [],
   "execution_count": 8
  },
  {
   "metadata": {
    "ExecuteTime": {
     "end_time": "2024-09-27T15:46:04.892989Z",
     "start_time": "2024-09-27T15:46:01.825705Z"
    }
   },
   "cell_type": "code",
   "source": [
    "datasets_converted = {}\n",
    "for f in ['train', 'dev']:\n",
    "    datasets_converted[f] = load_std_dataset(preprocessed_path, f + '.json')"
   ],
   "id": "25eb6bb0830d13b6",
   "outputs": [
    {
     "data": {
      "text/plain": [
       "Map:   0%|          | 0/3068 [00:00<?, ? examples/s]"
      ],
      "application/vnd.jupyter.widget-view+json": {
       "version_major": 2,
       "version_minor": 0,
       "model_id": "3cd37a0b48704612bd8fb4dc89676a23"
      }
     },
     "metadata": {},
     "output_type": "display_data"
    },
    {
     "data": {
      "text/plain": [
       "Filter:   0%|          | 0/3068 [00:00<?, ? examples/s]"
      ],
      "application/vnd.jupyter.widget-view+json": {
       "version_major": 2,
       "version_minor": 0,
       "model_id": "47c6548213e346e191b6df013cca6171"
      }
     },
     "metadata": {},
     "output_type": "display_data"
    },
    {
     "data": {
      "text/plain": [
       "Map:   0%|          | 0/500 [00:00<?, ? examples/s]"
      ],
      "application/vnd.jupyter.widget-view+json": {
       "version_major": 2,
       "version_minor": 0,
       "model_id": "ce7d073cf7184c608394e1f429eea31c"
      }
     },
     "metadata": {},
     "output_type": "display_data"
    },
    {
     "data": {
      "text/plain": [
       "Filter:   0%|          | 0/500 [00:00<?, ? examples/s]"
      ],
      "application/vnd.jupyter.widget-view+json": {
       "version_major": 2,
       "version_minor": 0,
       "model_id": "1e5c6032948d47bcbb43bb9ab0b8455c"
      }
     },
     "metadata": {},
     "output_type": "display_data"
    }
   ],
   "execution_count": 9
  },
  {
   "metadata": {
    "ExecuteTime": {
     "end_time": "2024-09-27T15:46:04.924267Z",
     "start_time": "2024-09-27T15:46:04.893974Z"
    }
   },
   "cell_type": "code",
   "source": "pd.Series([len(e['evidence']) for e in datasets_converted['dev']]).value_counts()",
   "id": "617ab96a49915e",
   "outputs": [
    {
     "data": {
      "text/plain": [
       "2    174\n",
       "1    119\n",
       "3     96\n",
       "4     49\n",
       "5     23\n",
       "6      8\n",
       "7      6\n",
       "Name: count, dtype: int64"
      ]
     },
     "execution_count": 10,
     "metadata": {},
     "output_type": "execute_result"
    }
   ],
   "execution_count": 10
  },
  {
   "metadata": {
    "ExecuteTime": {
     "end_time": "2024-09-27T15:46:04.954332Z",
     "start_time": "2024-09-27T15:46:04.926470Z"
    }
   },
   "cell_type": "code",
   "source": "len(datasets_converted['dev'])",
   "id": "576ea0cc203ad3f7",
   "outputs": [
    {
     "data": {
      "text/plain": [
       "475"
      ]
     },
     "execution_count": 11,
     "metadata": {},
     "output_type": "execute_result"
    }
   ],
   "execution_count": 11
  },
  {
   "metadata": {
    "ExecuteTime": {
     "end_time": "2024-09-27T15:46:04.984493Z",
     "start_time": "2024-09-27T15:46:04.955224Z"
    }
   },
   "cell_type": "code",
   "source": "pd.Series([len(e['evidence']) for e in datasets['dev']]).value_counts()",
   "id": "c5a1d7dde7f7887c",
   "outputs": [
    {
     "data": {
      "text/plain": [
       "2     177\n",
       "1     120\n",
       "3     101\n",
       "4      52\n",
       "5      25\n",
       "6      11\n",
       "7       9\n",
       "9       2\n",
       "8       1\n",
       "10      1\n",
       "12      1\n",
       "Name: count, dtype: int64"
      ]
     },
     "execution_count": 12,
     "metadata": {},
     "output_type": "execute_result"
    }
   ],
   "execution_count": 12
  },
  {
   "metadata": {
    "ExecuteTime": {
     "end_time": "2024-09-27T15:46:05.017547Z",
     "start_time": "2024-09-27T15:46:04.985489Z"
    }
   },
   "cell_type": "code",
   "source": [
    "# get average number of evidence texts\n",
    "sum([len(e['evidence']) for e in datasets['train']]) / len(datasets['train'])"
   ],
   "id": "25b0370f70679516",
   "outputs": [
    {
     "data": {
      "text/plain": [
       "2.6026727509778356"
      ]
     },
     "execution_count": 13,
     "metadata": {},
     "output_type": "execute_result"
    }
   ],
   "execution_count": 13
  },
  {
   "metadata": {
    "ExecuteTime": {
     "end_time": "2024-09-27T15:46:05.047326Z",
     "start_time": "2024-09-27T15:46:05.018906Z"
    }
   },
   "cell_type": "code",
   "source": "sum([len(e['evidence']) for e in datasets['dev']]) / len(datasets['dev'])",
   "id": "1ecbaffeec0e5ec1",
   "outputs": [
    {
     "data": {
      "text/plain": [
       "2.574"
      ]
     },
     "execution_count": 14,
     "metadata": {},
     "output_type": "execute_result"
    }
   ],
   "execution_count": 14
  },
  {
   "metadata": {},
   "cell_type": "markdown",
   "source": "",
   "id": "cac6d31cf4ca6855"
  },
  {
   "metadata": {
    "ExecuteTime": {
     "end_time": "2024-09-27T15:46:05.149648Z",
     "start_time": "2024-09-27T15:46:05.048303Z"
    }
   },
   "cell_type": "code",
   "source": [
    "# load datasets with questions\n",
    "datasets = {}\n",
    "for f in files:\n",
    "    t_name = f\n",
    "    with open(os.path.join(preprocessed_path, t_name + '.json'), 'r') as f_in:\n",
    "        datasets[f] = json.load(f_in)"
   ],
   "id": "79f03571824feb36",
   "outputs": [],
   "execution_count": 15
  },
  {
   "metadata": {},
   "cell_type": "markdown",
   "source": "## ",
   "id": "63ece1a5c2027c06"
  },
  {
   "metadata": {},
   "cell_type": "markdown",
   "source": "# Noisy evidence",
   "id": "1ba4c14b69ea4ead"
  },
  {
   "metadata": {},
   "cell_type": "markdown",
   "source": [
    "Gather all retreived evidence QA form with id of their claim.\n",
    "\n",
    "Find actual token length of claim and evidence, and the remaining tokens for noise.\n",
    "\n",
    "Find candidate noisy evidence from retrieved evidence.\n",
    "\n",
    "Filter retrieved evidence with same source_url of gold evidence.\n",
    "\n",
    "Sort by BM25 similarity score, with equal score, sort by token length.\n",
    "\n",
    "Look at averitec.py for more details."
   ],
   "id": "4fdbcb4be1bc6e57"
  }
 ],
 "metadata": {
  "kernelspec": {
   "display_name": "fev2env",
   "language": "python",
   "name": "fev2env"
  },
  "language_info": {
   "codemirror_mode": {
    "name": "ipython",
    "version": 2
   },
   "file_extension": ".py",
   "mimetype": "text/x-python",
   "name": "python",
   "nbconvert_exporter": "python",
   "pygments_lexer": "ipython2",
   "version": "2.7.6"
  }
 },
 "nbformat": 4,
 "nbformat_minor": 5
}
