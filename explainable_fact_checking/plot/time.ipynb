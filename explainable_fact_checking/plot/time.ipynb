{
 "cells": [
  {
   "cell_type": "code",
   "id": "initial_id",
   "metadata": {
    "collapsed": true,
    "ExecuteTime": {
     "end_time": "2024-08-08T14:09:51.271382Z",
     "start_time": "2024-08-08T14:09:50.776436Z"
    }
   },
   "source": [
    "%matplotlib inline\n",
    "%load_ext autoreload\n",
    "%autoreload 2\n",
    "\n",
    "from explainable_fact_checking.plot.notebook_utility import *"
   ],
   "outputs": [
    {
     "name": "stdout",
     "output_type": "stream",
     "text": [
      "The autoreload extension is already loaded. To reload it, use:\n",
      "  %reload_ext autoreload\n"
     ]
    }
   ],
   "execution_count": 12
  },
  {
   "metadata": {
    "ExecuteTime": {
     "end_time": "2024-08-08T14:09:54.360526Z",
     "start_time": "2024-08-08T14:09:51.273117Z"
    }
   },
   "cell_type": "code",
   "source": [
    "df = xfc.load_preprocess_explanations(experiment_code_list=[\n",
    "    'fbs_time_1.0',\n",
    "    'fbs_time_2.0',\n",
    "])"
   ],
   "id": "220e8b5ac67e5cb0",
   "outputs": [],
   "execution_count": 13
  },
  {
   "metadata": {
    "ExecuteTime": {
     "end_time": "2024-08-08T14:09:54.465251Z",
     "start_time": "2024-08-08T14:09:54.361993Z"
    }
   },
   "cell_type": "code",
   "source": "df",
   "id": "445483c167c81eec",
   "outputs": [
    {
     "data": {
      "text/plain": [
       "                                               unit_text  unit_index  \\\n",
       "5155   Bill Persky (born September 9, 1931) is an Ame...           0   \n",
       "5156   Persky was born to a [[American_Jews|Jewish]] ...           1   \n",
       "5157                Persky has been married three times.           2   \n",
       "5158   His third wife is New York advertising executi...           3   \n",
       "5159   Bill Persky (a TV director) was born to a Jewi...           0   \n",
       "...                                                  ...         ...   \n",
       "47296                      Government is Radostin Radev.           2   \n",
       "47297  [[Provinces_of_Bulgaria|Province]] (Oblast) is...           3   \n",
       "47298  Kostenets\\nКостенец is [[Bulgaria|Bulgaria]] ;...           4   \n",
       "47299  [[Countries_of_the_world|Country]] is [[Bulgar...           5   \n",
       "47300  Radostin Radev is the mayor of Kostenets, a to...           0   \n",
       "\n",
       "       SUPPORTS   REFUTES  NOT ENOUGH INFO  num_samples     label  \\\n",
       "5155   0.194953 -0.043362        -0.151591          128  SUPPORTS   \n",
       "5156   0.281257 -0.025758        -0.255499          128  SUPPORTS   \n",
       "5157  -0.084214 -0.024018         0.108232          128  SUPPORTS   \n",
       "5158   0.293867 -0.017703        -0.276164          128  SUPPORTS   \n",
       "5159  -0.201900  0.091101         1.110799          128  SUPPORTS   \n",
       "...         ...       ...              ...          ...       ...   \n",
       "47296  0.084432  0.065461        -0.149893           32  SUPPORTS   \n",
       "47297 -0.020930 -0.008978         0.029908           32  SUPPORTS   \n",
       "47298  0.251075 -0.101128        -0.149947           32  SUPPORTS   \n",
       "47299  0.064073 -0.028684        -0.035389           32  SUPPORTS   \n",
       "47300  0.007807  0.079365         0.912828           32  SUPPORTS   \n",
       "\n",
       "       execution_time     id  NOT ENOUGH INFO_predict_proba  ...  \\\n",
       "5155         2.438616    268                       0.018809  ...   \n",
       "5156         2.438616    268                       0.018809  ...   \n",
       "5157         2.438616    268                       0.018809  ...   \n",
       "5158         2.438616    268                       0.018809  ...   \n",
       "5159         2.438616    268                       0.018809  ...   \n",
       "...               ...    ...                            ...  ...   \n",
       "47296        4.170465  51676                       0.435392  ...   \n",
       "47297        4.170465  51676                       0.435392  ...   \n",
       "47298        4.170465  51676                       0.435392  ...   \n",
       "47299        4.170465  51676                       0.435392  ...   \n",
       "47300        4.170465  51676                       0.435392  ...   \n",
       "\n",
       "                                              model_path  explainer_name  \\\n",
       "5155   /homes/bussotti/feverous_work/feverousdata/mod...            lime   \n",
       "5156   /homes/bussotti/feverous_work/feverousdata/mod...            lime   \n",
       "5157   /homes/bussotti/feverous_work/feverousdata/mod...            lime   \n",
       "5158   /homes/bussotti/feverous_work/feverousdata/mod...            lime   \n",
       "5159   /homes/bussotti/feverous_work/feverousdata/mod...            lime   \n",
       "...                                                  ...             ...   \n",
       "47296  /homes/bussotti/feverous_work/feverousdata/mod...            shap   \n",
       "47297  /homes/bussotti/feverous_work/feverousdata/mod...            shap   \n",
       "47298  /homes/bussotti/feverous_work/feverousdata/mod...            shap   \n",
       "47299  /homes/bussotti/feverous_work/feverousdata/mod...            shap   \n",
       "47300  /homes/bussotti/feverous_work/feverousdata/mod...            shap   \n",
       "\n",
       "                      dataset_dir  top perturbation_mode  \\\n",
       "5155   /home/bussotti/XFCresults/  100     only_evidence   \n",
       "5156   /home/bussotti/XFCresults/  100     only_evidence   \n",
       "5157   /home/bussotti/XFCresults/  100     only_evidence   \n",
       "5158   /home/bussotti/XFCresults/  100     only_evidence   \n",
       "5159   /home/bussotti/XFCresults/  100     only_evidence   \n",
       "...                           ...  ...               ...   \n",
       "47296  /home/bussotti/XFCresults/  100     only_evidence   \n",
       "47297  /home/bussotti/XFCresults/  100     only_evidence   \n",
       "47298  /home/bussotti/XFCresults/  100     only_evidence   \n",
       "47299  /home/bussotti/XFCresults/  100     only_evidence   \n",
       "47300  /home/bussotti/XFCresults/  100     only_evidence   \n",
       "\n",
       "                    dataset_file_name             mode predicted_label  \\\n",
       "5155         feverous_dev_SO_01.jsonl              NaN        SUPPORTS   \n",
       "5156         feverous_dev_SO_01.jsonl              NaN        SUPPORTS   \n",
       "5157         feverous_dev_SO_01.jsonl              NaN        SUPPORTS   \n",
       "5158         feverous_dev_SO_01.jsonl              NaN        SUPPORTS   \n",
       "5159         feverous_dev_SO_01.jsonl              NaN        SUPPORTS   \n",
       "...                               ...              ...             ...   \n",
       "47296  original_TO_01_formatted.jsonl  KernelExplainer        SUPPORTS   \n",
       "47297  original_TO_01_formatted.jsonl  KernelExplainer        SUPPORTS   \n",
       "47298  original_TO_01_formatted.jsonl  KernelExplainer        SUPPORTS   \n",
       "47299  original_TO_01_formatted.jsonl  KernelExplainer        SUPPORTS   \n",
       "47300  original_TO_01_formatted.jsonl  KernelExplainer        SUPPORTS   \n",
       "\n",
       "      score_on_predicted_label                    model_id  \n",
       "5155                  0.194953  feverous_verdict_predictor  \n",
       "5156                  0.281257  feverous_verdict_predictor  \n",
       "5157                 -0.084214  feverous_verdict_predictor  \n",
       "5158                  0.293867  feverous_verdict_predictor  \n",
       "5159                 -0.201900  feverous_verdict_predictor  \n",
       "...                        ...                         ...  \n",
       "47296                 0.084432  feverous_verdict_predictor  \n",
       "47297                -0.020930  feverous_verdict_predictor  \n",
       "47298                 0.251075  feverous_verdict_predictor  \n",
       "47299                 0.064073  feverous_verdict_predictor  \n",
       "47300                 0.007807  feverous_verdict_predictor  \n",
       "\n",
       "[48096 rows x 28 columns]"
      ],
      "text/html": [
       "<div>\n",
       "<style scoped>\n",
       "    .dataframe tbody tr th:only-of-type {\n",
       "        vertical-align: middle;\n",
       "    }\n",
       "\n",
       "    .dataframe tbody tr th {\n",
       "        vertical-align: top;\n",
       "    }\n",
       "\n",
       "    .dataframe thead th {\n",
       "        text-align: right;\n",
       "    }\n",
       "</style>\n",
       "<table border=\"1\" class=\"dataframe\">\n",
       "  <thead>\n",
       "    <tr style=\"text-align: right;\">\n",
       "      <th></th>\n",
       "      <th>unit_text</th>\n",
       "      <th>unit_index</th>\n",
       "      <th>SUPPORTS</th>\n",
       "      <th>REFUTES</th>\n",
       "      <th>NOT ENOUGH INFO</th>\n",
       "      <th>num_samples</th>\n",
       "      <th>label</th>\n",
       "      <th>execution_time</th>\n",
       "      <th>id</th>\n",
       "      <th>NOT ENOUGH INFO_predict_proba</th>\n",
       "      <th>...</th>\n",
       "      <th>model_path</th>\n",
       "      <th>explainer_name</th>\n",
       "      <th>dataset_dir</th>\n",
       "      <th>top</th>\n",
       "      <th>perturbation_mode</th>\n",
       "      <th>dataset_file_name</th>\n",
       "      <th>mode</th>\n",
       "      <th>predicted_label</th>\n",
       "      <th>score_on_predicted_label</th>\n",
       "      <th>model_id</th>\n",
       "    </tr>\n",
       "  </thead>\n",
       "  <tbody>\n",
       "    <tr>\n",
       "      <th>5155</th>\n",
       "      <td>Bill Persky (born September 9, 1931) is an Ame...</td>\n",
       "      <td>0</td>\n",
       "      <td>0.194953</td>\n",
       "      <td>-0.043362</td>\n",
       "      <td>-0.151591</td>\n",
       "      <td>128</td>\n",
       "      <td>SUPPORTS</td>\n",
       "      <td>2.438616</td>\n",
       "      <td>268</td>\n",
       "      <td>0.018809</td>\n",
       "      <td>...</td>\n",
       "      <td>/homes/bussotti/feverous_work/feverousdata/mod...</td>\n",
       "      <td>lime</td>\n",
       "      <td>/home/bussotti/XFCresults/</td>\n",
       "      <td>100</td>\n",
       "      <td>only_evidence</td>\n",
       "      <td>feverous_dev_SO_01.jsonl</td>\n",
       "      <td>NaN</td>\n",
       "      <td>SUPPORTS</td>\n",
       "      <td>0.194953</td>\n",
       "      <td>feverous_verdict_predictor</td>\n",
       "    </tr>\n",
       "    <tr>\n",
       "      <th>5156</th>\n",
       "      <td>Persky was born to a [[American_Jews|Jewish]] ...</td>\n",
       "      <td>1</td>\n",
       "      <td>0.281257</td>\n",
       "      <td>-0.025758</td>\n",
       "      <td>-0.255499</td>\n",
       "      <td>128</td>\n",
       "      <td>SUPPORTS</td>\n",
       "      <td>2.438616</td>\n",
       "      <td>268</td>\n",
       "      <td>0.018809</td>\n",
       "      <td>...</td>\n",
       "      <td>/homes/bussotti/feverous_work/feverousdata/mod...</td>\n",
       "      <td>lime</td>\n",
       "      <td>/home/bussotti/XFCresults/</td>\n",
       "      <td>100</td>\n",
       "      <td>only_evidence</td>\n",
       "      <td>feverous_dev_SO_01.jsonl</td>\n",
       "      <td>NaN</td>\n",
       "      <td>SUPPORTS</td>\n",
       "      <td>0.281257</td>\n",
       "      <td>feverous_verdict_predictor</td>\n",
       "    </tr>\n",
       "    <tr>\n",
       "      <th>5157</th>\n",
       "      <td>Persky has been married three times.</td>\n",
       "      <td>2</td>\n",
       "      <td>-0.084214</td>\n",
       "      <td>-0.024018</td>\n",
       "      <td>0.108232</td>\n",
       "      <td>128</td>\n",
       "      <td>SUPPORTS</td>\n",
       "      <td>2.438616</td>\n",
       "      <td>268</td>\n",
       "      <td>0.018809</td>\n",
       "      <td>...</td>\n",
       "      <td>/homes/bussotti/feverous_work/feverousdata/mod...</td>\n",
       "      <td>lime</td>\n",
       "      <td>/home/bussotti/XFCresults/</td>\n",
       "      <td>100</td>\n",
       "      <td>only_evidence</td>\n",
       "      <td>feverous_dev_SO_01.jsonl</td>\n",
       "      <td>NaN</td>\n",
       "      <td>SUPPORTS</td>\n",
       "      <td>-0.084214</td>\n",
       "      <td>feverous_verdict_predictor</td>\n",
       "    </tr>\n",
       "    <tr>\n",
       "      <th>5158</th>\n",
       "      <td>His third wife is New York advertising executi...</td>\n",
       "      <td>3</td>\n",
       "      <td>0.293867</td>\n",
       "      <td>-0.017703</td>\n",
       "      <td>-0.276164</td>\n",
       "      <td>128</td>\n",
       "      <td>SUPPORTS</td>\n",
       "      <td>2.438616</td>\n",
       "      <td>268</td>\n",
       "      <td>0.018809</td>\n",
       "      <td>...</td>\n",
       "      <td>/homes/bussotti/feverous_work/feverousdata/mod...</td>\n",
       "      <td>lime</td>\n",
       "      <td>/home/bussotti/XFCresults/</td>\n",
       "      <td>100</td>\n",
       "      <td>only_evidence</td>\n",
       "      <td>feverous_dev_SO_01.jsonl</td>\n",
       "      <td>NaN</td>\n",
       "      <td>SUPPORTS</td>\n",
       "      <td>0.293867</td>\n",
       "      <td>feverous_verdict_predictor</td>\n",
       "    </tr>\n",
       "    <tr>\n",
       "      <th>5159</th>\n",
       "      <td>Bill Persky (a TV director) was born to a Jewi...</td>\n",
       "      <td>0</td>\n",
       "      <td>-0.201900</td>\n",
       "      <td>0.091101</td>\n",
       "      <td>1.110799</td>\n",
       "      <td>128</td>\n",
       "      <td>SUPPORTS</td>\n",
       "      <td>2.438616</td>\n",
       "      <td>268</td>\n",
       "      <td>0.018809</td>\n",
       "      <td>...</td>\n",
       "      <td>/homes/bussotti/feverous_work/feverousdata/mod...</td>\n",
       "      <td>lime</td>\n",
       "      <td>/home/bussotti/XFCresults/</td>\n",
       "      <td>100</td>\n",
       "      <td>only_evidence</td>\n",
       "      <td>feverous_dev_SO_01.jsonl</td>\n",
       "      <td>NaN</td>\n",
       "      <td>SUPPORTS</td>\n",
       "      <td>-0.201900</td>\n",
       "      <td>feverous_verdict_predictor</td>\n",
       "    </tr>\n",
       "    <tr>\n",
       "      <th>...</th>\n",
       "      <td>...</td>\n",
       "      <td>...</td>\n",
       "      <td>...</td>\n",
       "      <td>...</td>\n",
       "      <td>...</td>\n",
       "      <td>...</td>\n",
       "      <td>...</td>\n",
       "      <td>...</td>\n",
       "      <td>...</td>\n",
       "      <td>...</td>\n",
       "      <td>...</td>\n",
       "      <td>...</td>\n",
       "      <td>...</td>\n",
       "      <td>...</td>\n",
       "      <td>...</td>\n",
       "      <td>...</td>\n",
       "      <td>...</td>\n",
       "      <td>...</td>\n",
       "      <td>...</td>\n",
       "      <td>...</td>\n",
       "      <td>...</td>\n",
       "    </tr>\n",
       "    <tr>\n",
       "      <th>47296</th>\n",
       "      <td>Government is Radostin Radev.</td>\n",
       "      <td>2</td>\n",
       "      <td>0.084432</td>\n",
       "      <td>0.065461</td>\n",
       "      <td>-0.149893</td>\n",
       "      <td>32</td>\n",
       "      <td>SUPPORTS</td>\n",
       "      <td>4.170465</td>\n",
       "      <td>51676</td>\n",
       "      <td>0.435392</td>\n",
       "      <td>...</td>\n",
       "      <td>/homes/bussotti/feverous_work/feverousdata/mod...</td>\n",
       "      <td>shap</td>\n",
       "      <td>/home/bussotti/XFCresults/</td>\n",
       "      <td>100</td>\n",
       "      <td>only_evidence</td>\n",
       "      <td>original_TO_01_formatted.jsonl</td>\n",
       "      <td>KernelExplainer</td>\n",
       "      <td>SUPPORTS</td>\n",
       "      <td>0.084432</td>\n",
       "      <td>feverous_verdict_predictor</td>\n",
       "    </tr>\n",
       "    <tr>\n",
       "      <th>47297</th>\n",
       "      <td>[[Provinces_of_Bulgaria|Province]] (Oblast) is...</td>\n",
       "      <td>3</td>\n",
       "      <td>-0.020930</td>\n",
       "      <td>-0.008978</td>\n",
       "      <td>0.029908</td>\n",
       "      <td>32</td>\n",
       "      <td>SUPPORTS</td>\n",
       "      <td>4.170465</td>\n",
       "      <td>51676</td>\n",
       "      <td>0.435392</td>\n",
       "      <td>...</td>\n",
       "      <td>/homes/bussotti/feverous_work/feverousdata/mod...</td>\n",
       "      <td>shap</td>\n",
       "      <td>/home/bussotti/XFCresults/</td>\n",
       "      <td>100</td>\n",
       "      <td>only_evidence</td>\n",
       "      <td>original_TO_01_formatted.jsonl</td>\n",
       "      <td>KernelExplainer</td>\n",
       "      <td>SUPPORTS</td>\n",
       "      <td>-0.020930</td>\n",
       "      <td>feverous_verdict_predictor</td>\n",
       "    </tr>\n",
       "    <tr>\n",
       "      <th>47298</th>\n",
       "      <td>Kostenets\\nКостенец is [[Bulgaria|Bulgaria]] ;...</td>\n",
       "      <td>4</td>\n",
       "      <td>0.251075</td>\n",
       "      <td>-0.101128</td>\n",
       "      <td>-0.149947</td>\n",
       "      <td>32</td>\n",
       "      <td>SUPPORTS</td>\n",
       "      <td>4.170465</td>\n",
       "      <td>51676</td>\n",
       "      <td>0.435392</td>\n",
       "      <td>...</td>\n",
       "      <td>/homes/bussotti/feverous_work/feverousdata/mod...</td>\n",
       "      <td>shap</td>\n",
       "      <td>/home/bussotti/XFCresults/</td>\n",
       "      <td>100</td>\n",
       "      <td>only_evidence</td>\n",
       "      <td>original_TO_01_formatted.jsonl</td>\n",
       "      <td>KernelExplainer</td>\n",
       "      <td>SUPPORTS</td>\n",
       "      <td>0.251075</td>\n",
       "      <td>feverous_verdict_predictor</td>\n",
       "    </tr>\n",
       "    <tr>\n",
       "      <th>47299</th>\n",
       "      <td>[[Countries_of_the_world|Country]] is [[Bulgar...</td>\n",
       "      <td>5</td>\n",
       "      <td>0.064073</td>\n",
       "      <td>-0.028684</td>\n",
       "      <td>-0.035389</td>\n",
       "      <td>32</td>\n",
       "      <td>SUPPORTS</td>\n",
       "      <td>4.170465</td>\n",
       "      <td>51676</td>\n",
       "      <td>0.435392</td>\n",
       "      <td>...</td>\n",
       "      <td>/homes/bussotti/feverous_work/feverousdata/mod...</td>\n",
       "      <td>shap</td>\n",
       "      <td>/home/bussotti/XFCresults/</td>\n",
       "      <td>100</td>\n",
       "      <td>only_evidence</td>\n",
       "      <td>original_TO_01_formatted.jsonl</td>\n",
       "      <td>KernelExplainer</td>\n",
       "      <td>SUPPORTS</td>\n",
       "      <td>0.064073</td>\n",
       "      <td>feverous_verdict_predictor</td>\n",
       "    </tr>\n",
       "    <tr>\n",
       "      <th>47300</th>\n",
       "      <td>Radostin Radev is the mayor of Kostenets, a to...</td>\n",
       "      <td>0</td>\n",
       "      <td>0.007807</td>\n",
       "      <td>0.079365</td>\n",
       "      <td>0.912828</td>\n",
       "      <td>32</td>\n",
       "      <td>SUPPORTS</td>\n",
       "      <td>4.170465</td>\n",
       "      <td>51676</td>\n",
       "      <td>0.435392</td>\n",
       "      <td>...</td>\n",
       "      <td>/homes/bussotti/feverous_work/feverousdata/mod...</td>\n",
       "      <td>shap</td>\n",
       "      <td>/home/bussotti/XFCresults/</td>\n",
       "      <td>100</td>\n",
       "      <td>only_evidence</td>\n",
       "      <td>original_TO_01_formatted.jsonl</td>\n",
       "      <td>KernelExplainer</td>\n",
       "      <td>SUPPORTS</td>\n",
       "      <td>0.007807</td>\n",
       "      <td>feverous_verdict_predictor</td>\n",
       "    </tr>\n",
       "  </tbody>\n",
       "</table>\n",
       "<p>48096 rows × 28 columns</p>\n",
       "</div>"
      ]
     },
     "execution_count": 14,
     "metadata": {},
     "output_type": "execute_result"
    }
   ],
   "execution_count": 14
  },
  {
   "metadata": {
    "ExecuteTime": {
     "end_time": "2024-08-08T14:09:54.531773Z",
     "start_time": "2024-08-08T14:09:54.467478Z"
    }
   },
   "cell_type": "code",
   "source": [
    "# query explainer_name == 'lime'\n",
    "df.query('explainer_name == \"lime\"')['num_samples'].unique()\n"
   ],
   "id": "94cc7459e26650b7",
   "outputs": [
    {
     "data": {
      "text/plain": [
       "array([ 128, 4096, 8192,  256, 1024, 2048,   32,   64,  512])"
      ]
     },
     "execution_count": 15,
     "metadata": {},
     "output_type": "execute_result"
    }
   ],
   "execution_count": 15
  },
  {
   "metadata": {
    "ExecuteTime": {
     "end_time": "2024-08-08T14:09:54.665075Z",
     "start_time": "2024-08-08T14:09:54.533329Z"
    }
   },
   "cell_type": "code",
   "source": [
    "# query explainer_name == 'shap'\n",
    "shap_df = df.query('explainer_name == \"shap\"')"
   ],
   "id": "773e8aac3fb3721e",
   "outputs": [],
   "execution_count": 16
  },
  {
   "metadata": {
    "ExecuteTime": {
     "end_time": "2024-08-08T14:43:20.170264Z",
     "start_time": "2024-08-08T14:43:17.727987Z"
    }
   },
   "cell_type": "code",
   "source": [
    "# select first element of each id (id_cols are = ['num_samples', 'explainer_name', 'dataset_name', 'id','model_name'])\n",
    "# plot in log scale y axis = 'execution_time' x axis = 'num_samples'. with mean and std, grouping by id_cols    \n",
    "# use plotly express\n",
    "def plot_time_vs_num_samples(df, id_cols, log_scale=True):\n",
    "    df = df.groupby(id_cols, as_index=False).first()\n",
    "    # groupby 'id'and compute mean and std of 'execution_time'\n",
    "    df = df.groupby(list(set(id_cols) - set(['id'])), as_index=False).agg({'execution_time': ['mean', 'std']})\n",
    "    # merge columns names levels\n",
    "    df.columns = df.columns.map('_'.join).str.strip('_')\n",
    "    fig = px.line(df, x='num_samples', y='execution_time_mean', color='explainer_name', symbol='model_name', error_y='execution_time_std', log_y=False)\n",
    "    return fig\n",
    "    \n",
    "fig = plot_time_vs_num_samples(df, id_cols=['num_samples', 'explainer_name', 'dataset_name', 'id','model_name'], log_scale=True)\n",
    "fig.update_layout(**layout_dict, **h_legend_dict\n",
    "                  )\n",
    "fig = end_fig_func(fig)\n",
    "fig.show()"
   ],
   "id": "6250e1342f140d9c",
   "outputs": [
    {
     "data": {
      "application/vnd.plotly.v1+json": {
       "data": [
        {
         "error_y": {
          "array": [
           1.1905135759445287,
           0.5860800333137185,
           1.8480577998933378,
           2.018591667628492,
           5.0666725049364505,
           7.375979731874081,
           14.407700922511442,
           28.748877231417108,
           56.33655312275197
          ]
         },
         "hovertemplate": "lime<br>model_name=default<br>num_samples=%{x}<br>execution_time_mean=%{y}<extra></extra>",
         "legendgroup": "lime, default",
         "line": {
          "color": "#1f77b4",
          "dash": "solid"
         },
         "marker": {
          "symbol": "circle"
         },
         "mode": "lines+markers",
         "name": "lime, default",
         "orientation": "v",
         "showlegend": true,
         "x": [
          32,
          64,
          128,
          256,
          512,
          1024,
          2048,
          4096,
          8192
         ],
         "xaxis": "x",
         "y": [
          2.186916085,
          2.3389626150000002,
          3.5427455775,
          4.8220015775,
          10.106011355,
          12.9763086,
          23.517699275,
          45.816683122499995,
          87.928563545
         ],
         "yaxis": "y",
         "type": "scatter"
        },
        {
         "error_y": {
          "array": [
           1.3232505151300222,
           1.7498594607103517,
           2.933293171692359,
           5.101818855204217,
           4.825132334038118,
           8.959692931938006,
           10.338831560489202,
           12.914847420499934,
           18.126143211193124
          ]
         },
         "hovertemplate": "shap<br>model_name=default<br>num_samples=%{x}<br>execution_time_mean=%{y}<extra></extra>",
         "legendgroup": "shap, default",
         "line": {
          "color": "#ff7f0e",
          "dash": "solid"
         },
         "marker": {
          "symbol": "circle"
         },
         "mode": "lines+markers",
         "name": "shap, default",
         "orientation": "v",
         "showlegend": true,
         "x": [
          32,
          64,
          128,
          256,
          512,
          1024,
          2048,
          4096,
          8192
         ],
         "xaxis": "x",
         "y": [
          3.9659488499999997,
          4.4928652825,
          5.5753649175,
          6.04316734,
          5.488633075,
          8.2319735125,
          8.72227559,
          9.7868926075,
          9.908227544999999
         ],
         "yaxis": "y",
         "type": "scatter"
        }
       ],
       "layout": {
        "template": {
         "layout": {
          "colorway": [
           "#1f77b4",
           "#ff7f0e",
           "#2ca02c",
           "#d62728",
           "#9467bd",
           "#8c564b",
           "#e377c2",
           "#7f7f7f",
           "#bcbd22",
           "#17becf"
          ]
         }
        },
        "xaxis": {
         "anchor": "y",
         "domain": [
          0.0,
          1.0
         ],
         "title": {
          "text": "num_samples"
         }
        },
        "yaxis": {
         "anchor": "x",
         "domain": [
          0.0,
          1.0
         ],
         "title": {
          "text": "execution_time_mean"
         }
        },
        "legend": {
         "title": {
          "text": "explainer_name, model_name"
         },
         "tracegroupgap": 0,
         "orientation": "h",
         "yanchor": "bottom",
         "y": 1.04,
         "xanchor": "right",
         "x": 1
        },
        "margin": {
         "b": 55,
         "l": 55,
         "pad": 2,
         "r": 25,
         "t": 50
        },
        "font": {
         "size": 16
        },
        "autosize": false,
        "width": 600,
        "height": 666.6666666666666,
        "title": {
         "text": ""
        }
       },
       "config": {
        "plotlyServerURL": "https://plot.ly"
       }
      },
      "text/html": [
       "<div>                            <div id=\"4d2adda1-98a8-4ef1-bdac-015847a6799b\" class=\"plotly-graph-div\" style=\"height:666.6666666666666px; width:600px;\"></div>            <script type=\"text/javascript\">                require([\"plotly\"], function(Plotly) {                    window.PLOTLYENV=window.PLOTLYENV || {};                                    if (document.getElementById(\"4d2adda1-98a8-4ef1-bdac-015847a6799b\")) {                    Plotly.newPlot(                        \"4d2adda1-98a8-4ef1-bdac-015847a6799b\",                        [{\"error_y\":{\"array\":[1.1905135759445287,0.5860800333137185,1.8480577998933378,2.018591667628492,5.0666725049364505,7.375979731874081,14.407700922511442,28.748877231417108,56.33655312275197]},\"hovertemplate\":\"lime\\u003cbr\\u003emodel_name=default\\u003cbr\\u003enum_samples=%{x}\\u003cbr\\u003eexecution_time_mean=%{y}\\u003cextra\\u003e\\u003c\\u002fextra\\u003e\",\"legendgroup\":\"lime, default\",\"line\":{\"color\":\"#1f77b4\",\"dash\":\"solid\"},\"marker\":{\"symbol\":\"circle\"},\"mode\":\"lines+markers\",\"name\":\"lime, default\",\"orientation\":\"v\",\"showlegend\":true,\"x\":[32,64,128,256,512,1024,2048,4096,8192],\"xaxis\":\"x\",\"y\":[2.186916085,2.3389626150000002,3.5427455775,4.8220015775,10.106011355,12.9763086,23.517699275,45.816683122499995,87.928563545],\"yaxis\":\"y\",\"type\":\"scatter\"},{\"error_y\":{\"array\":[1.3232505151300222,1.7498594607103517,2.933293171692359,5.101818855204217,4.825132334038118,8.959692931938006,10.338831560489202,12.914847420499934,18.126143211193124]},\"hovertemplate\":\"shap\\u003cbr\\u003emodel_name=default\\u003cbr\\u003enum_samples=%{x}\\u003cbr\\u003eexecution_time_mean=%{y}\\u003cextra\\u003e\\u003c\\u002fextra\\u003e\",\"legendgroup\":\"shap, default\",\"line\":{\"color\":\"#ff7f0e\",\"dash\":\"solid\"},\"marker\":{\"symbol\":\"circle\"},\"mode\":\"lines+markers\",\"name\":\"shap, default\",\"orientation\":\"v\",\"showlegend\":true,\"x\":[32,64,128,256,512,1024,2048,4096,8192],\"xaxis\":\"x\",\"y\":[3.9659488499999997,4.4928652825,5.5753649175,6.04316734,5.488633075,8.2319735125,8.72227559,9.7868926075,9.908227544999999],\"yaxis\":\"y\",\"type\":\"scatter\"}],                        {\"template\":{\"layout\":{\"colorway\":[\"#1f77b4\",\"#ff7f0e\",\"#2ca02c\",\"#d62728\",\"#9467bd\",\"#8c564b\",\"#e377c2\",\"#7f7f7f\",\"#bcbd22\",\"#17becf\"]}},\"xaxis\":{\"anchor\":\"y\",\"domain\":[0.0,1.0],\"title\":{\"text\":\"num_samples\"}},\"yaxis\":{\"anchor\":\"x\",\"domain\":[0.0,1.0],\"title\":{\"text\":\"execution_time_mean\"}},\"legend\":{\"title\":{\"text\":\"explainer_name, model_name\"},\"tracegroupgap\":0,\"orientation\":\"h\",\"yanchor\":\"bottom\",\"y\":1.04,\"xanchor\":\"right\",\"x\":1},\"margin\":{\"b\":55,\"l\":55,\"pad\":2,\"r\":25,\"t\":50},\"font\":{\"size\":16},\"autosize\":false,\"width\":600,\"height\":666.6666666666666,\"title\":{\"text\":\"\"}},                        {\"responsive\": true}                    ).then(function(){\n",
       "                            \n",
       "var gd = document.getElementById('4d2adda1-98a8-4ef1-bdac-015847a6799b');\n",
       "var x = new MutationObserver(function (mutations, observer) {{\n",
       "        var display = window.getComputedStyle(gd).display;\n",
       "        if (!display || display === 'none') {{\n",
       "            console.log([gd, 'removed!']);\n",
       "            Plotly.purge(gd);\n",
       "            observer.disconnect();\n",
       "        }}\n",
       "}});\n",
       "\n",
       "// Listen for the removal of the full notebook cells\n",
       "var notebookContainer = gd.closest('#notebook-container');\n",
       "if (notebookContainer) {{\n",
       "    x.observe(notebookContainer, {childList: true});\n",
       "}}\n",
       "\n",
       "// Listen for the clearing of the current output cell\n",
       "var outputEl = gd.closest('.output');\n",
       "if (outputEl) {{\n",
       "    x.observe(outputEl, {childList: true});\n",
       "}}\n",
       "\n",
       "                        })                };                });            </script>        </div>"
      ]
     },
     "metadata": {},
     "output_type": "display_data"
    }
   ],
   "execution_count": 32
  },
  {
   "metadata": {
    "ExecuteTime": {
     "end_time": "2024-08-08T14:42:09.042166Z",
     "start_time": "2024-08-08T14:42:06.154961Z"
    }
   },
   "cell_type": "code",
   "source": [
    "id_cols=['num_samples', 'explainer_name', 'dataset_name', 'id','model_name']\n",
    "to_plot = df\n",
    "to_plot['n_evidence'] = to_plot.groupby(id_cols, as_index=False).transform('size')\n",
    "id_cols.append('n_evidence')\n",
    "to_plot = to_plot.groupby(id_cols, as_index=False).first()\n",
    "# groupby 'id'and compute mean and std of 'execution_time'\n",
    "to_plot = to_plot.groupby(list(set(id_cols) - set(['id'])), as_index=False).agg({'execution_time': ['mean', 'std']})\n",
    "# merge columns names levels\n",
    "to_plot.columns = to_plot.columns.map('_'.join).str.strip('_')\n",
    "fig = px.line(to_plot, x='n_evidence', y='execution_time_mean', color='num_samples', line_dash='explainer_name', error_y='execution_time_std', log_y=False)\n",
    "fig.update_layout(**layout_dict, **h_legend_dict\n",
    "                  )\n",
    "fig = end_fig_func(fig)\n",
    "fig.show()"
   ],
   "id": "c488a1856e3677f8",
   "outputs": [
    {
     "data": {
      "application/vnd.plotly.v1+json": {
       "data": [
        {
         "error_y": {
          "array": [
           0.47382117529790413,
           0.5136358041889298,
           0.5438152801458466,
           0.4818519730560094,
           0.45570766213692676,
           0.3814035124998923,
           0.4261730286050914,
           0.3738976866987814,
           0.42093742316920857,
           2.1312325911000074,
           0.20181712154737194,
           0.5223822056693739,
           null,
           null,
           null,
           null
          ]
         },
         "hovertemplate": "num_samples=32<br>lime<br>n_evidence=%{x}<br>execution_time_mean=%{y}<extra></extra>",
         "legendgroup": "32, LIME",
         "line": {
          "color": "#1f77b4",
          "dash": "solid"
         },
         "marker": {
          "symbol": "circle"
         },
         "mode": "lines",
         "name": "32, LIME",
         "orientation": "v",
         "showlegend": true,
         "x": [
          2,
          3,
          4,
          5,
          6,
          7,
          8,
          9,
          10,
          11,
          12,
          13,
          15,
          19,
          20,
          23
         ],
         "xaxis": "x",
         "y": [
          1.6787635172413793,
          1.7744446388888888,
          2.0617744166666667,
          2.2639942166666667,
          2.195612488372093,
          2.3190732727272727,
          2.3279484615384614,
          2.3994768,
          2.2991105000000003,
          2.4234031509433964,
          2.2144065,
          2.575952,
          2.251408,
          2.483403,
          2.865056,
          2.536638
         ],
         "yaxis": "y",
         "type": "scatter"
        },
        {
         "error_y": {
          "array": [
           0.21176754102593826,
           0.4089487354468878,
           0.6110405662103088,
           1.0569022513369928,
           0.9937327284963567,
           0.6791838991843565,
           1.0322672718554333,
           1.4119737536000092,
           0.716623199835404,
           0.9577383981753385,
           0.9468370665940011,
           1.4975800376614268,
           null,
           null,
           null,
           null
          ]
         },
         "hovertemplate": "num_samples=32<br>shap<br>n_evidence=%{x}<br>execution_time_mean=%{y}<extra></extra>",
         "legendgroup": "32, SHAP",
         "line": {
          "color": "#1f77b4",
          "dash": "dot"
         },
         "marker": {
          "symbol": "circle"
         },
         "mode": "lines",
         "name": "32, SHAP",
         "orientation": "v",
         "showlegend": true,
         "x": [
          2,
          3,
          4,
          5,
          6,
          7,
          8,
          9,
          10,
          11,
          12,
          13,
          15,
          19,
          20,
          23
         ],
         "xaxis": "x",
         "y": [
          1.5533436206896551,
          3.0937158611111113,
          3.2416404305555555,
          3.704353816666667,
          4.343550255813954,
          4.082107863636364,
          4.82520123076923,
          5.0141426000000004,
          4.7882005,
          5.057642594339622,
          5.3435265,
          5.220737,
          8.76934,
          5.106381,
          4.217299,
          4.750584
         ],
         "yaxis": "y",
         "type": "scatter"
        },
        {
         "error_y": {
          "array": [
           0.3844432639618049,
           0.4226844170830917,
           0.5166824511888904,
           0.5918392786226048,
           0.6472756575118919,
           0.5057779436178712,
           0.775151786357083,
           0.15175805946571694,
           0.2626329536436418,
           0.44772384787287717,
           0.7782337544819039,
           0.3466279867783325,
           null,
           null,
           null,
           null
          ]
         },
         "hovertemplate": "num_samples=64<br>lime<br>n_evidence=%{x}<br>execution_time_mean=%{y}<extra></extra>",
         "legendgroup": "64, LIME",
         "line": {
          "color": "#ff7f0e",
          "dash": "solid"
         },
         "marker": {
          "symbol": "circle"
         },
         "mode": "lines",
         "name": "64, LIME",
         "orientation": "v",
         "showlegend": true,
         "x": [
          2,
          3,
          4,
          5,
          6,
          7,
          8,
          9,
          10,
          11,
          12,
          13,
          15,
          19,
          20,
          23
         ],
         "xaxis": "x",
         "y": [
          2.1392919655172413,
          2.206294611111111,
          2.0556610555555554,
          2.1491659833333334,
          2.236742023255814,
          2.0836613181818184,
          2.475057923076923,
          2.7667306,
          2.48046325,
          2.748351783018868,
          2.9138885,
          2.768163,
          1.888303,
          2.908491,
          2.905893,
          2.989847
         ],
         "yaxis": "y",
         "type": "scatter"
        },
        {
         "error_y": {
          "array": [
           0.4245699726495306,
           0.6675484380985659,
           0.8234485741916784,
           1.706817965999347,
           0.8895527369404947,
           1.2153423540507002,
           1.6584714375420424,
           0.8418906696042545,
           0.5752098257268097,
           1.1209270434268137,
           0.7584805677226782,
           1.427620306944392,
           null,
           null,
           null,
           null
          ]
         },
         "hovertemplate": "num_samples=64<br>shap<br>n_evidence=%{x}<br>execution_time_mean=%{y}<extra></extra>",
         "legendgroup": "64, SHAP",
         "line": {
          "color": "#ff7f0e",
          "dash": "dot"
         },
         "marker": {
          "symbol": "circle"
         },
         "mode": "lines",
         "name": "64, SHAP",
         "orientation": "v",
         "showlegend": true,
         "x": [
          2,
          3,
          4,
          5,
          6,
          7,
          8,
          9,
          10,
          11,
          12,
          13,
          15,
          19,
          20,
          23
         ],
         "xaxis": "x",
         "y": [
          1.7200808620689656,
          3.355275222222222,
          3.4761557916666668,
          3.9797537666666667,
          4.3633229069767445,
          4.837195545454545,
          5.6271404615384615,
          5.0568612,
          5.466538,
          6.227380584905661,
          6.63009675,
          5.144833,
          4.962119,
          6.575722,
          7.886891,
          6.723819
         ],
         "yaxis": "y",
         "type": "scatter"
        },
        {
         "error_y": {
          "array": [
           0.4498650131525498,
           0.5830680074785173,
           1.0104705165679353,
           1.386562746925573,
           1.3706933291083294,
           1.7842348343210144,
           1.7284861565167586,
           1.294134280621219,
           0.8168099793037853,
           1.922774617047633,
           1.0061261294285708,
           3.5282019157186135,
           null,
           null,
           null,
           null
          ]
         },
         "hovertemplate": "num_samples=128<br>lime<br>n_evidence=%{x}<br>execution_time_mean=%{y}<extra></extra>",
         "legendgroup": "128, LIME",
         "line": {
          "color": "#2ca02c",
          "dash": "solid"
         },
         "marker": {
          "symbol": "circle"
         },
         "mode": "lines",
         "name": "128, LIME",
         "orientation": "v",
         "showlegend": true,
         "x": [
          2,
          3,
          4,
          5,
          6,
          7,
          8,
          9,
          10,
          11,
          12,
          13,
          15,
          19,
          20,
          23
         ],
         "xaxis": "x",
         "y": [
          2.3763626206896555,
          2.4596160555555553,
          2.4606801666666667,
          2.89291285,
          3.0791611395348837,
          3.7210028181818178,
          4.104743923076923,
          3.7657469999999997,
          3.83319775,
          5.275638773584906,
          3.77170275,
          5.1154545,
          6.726045,
          3.924713,
          3.328037,
          8.590381
         ],
         "yaxis": "y",
         "type": "scatter"
        },
        {
         "error_y": {
          "array": [
           0.366869746894794,
           0.9819783164103072,
           1.0168670933896533,
           0.9919372000589762,
           2.473464423805181,
           1.1934283790726368,
           1.6455304942762805,
           1.2259087959353663,
           1.7647007361042608,
           1.6671740075766583,
           1.6731430169604697,
           4.247523966550159,
           null,
           null,
           null,
           null
          ]
         },
         "hovertemplate": "num_samples=128<br>shap<br>n_evidence=%{x}<br>execution_time_mean=%{y}<extra></extra>",
         "legendgroup": "128, SHAP",
         "line": {
          "color": "#2ca02c",
          "dash": "dot"
         },
         "marker": {
          "symbol": "circle"
         },
         "mode": "lines",
         "name": "128, SHAP",
         "orientation": "v",
         "showlegend": true,
         "x": [
          2,
          3,
          4,
          5,
          6,
          7,
          8,
          9,
          10,
          11,
          12,
          13,
          15,
          19,
          20,
          23
         ],
         "xaxis": "x",
         "y": [
          1.7314343103448278,
          3.6392339166666665,
          3.6165126944444443,
          4.04945115,
          4.672970348837209,
          5.220454318181818,
          7.362700153846154,
          7.420244800000001,
          8.51728275,
          9.239428849056603,
          8.18823175,
          8.587458999999999,
          8.499301,
          8.160123,
          8.09726,
          8.828804
         ],
         "yaxis": "y",
         "type": "scatter"
        },
        {
         "error_y": {
          "array": [
           0.526158000125227,
           0.9479189540859042,
           1.1600967428924376,
           1.2046667353870322,
           1.3491674839109626,
           2.2257107146292574,
           1.9357139845710314,
           1.1491721933815227,
           1.5787717828648482,
           1.1799226510799017,
           1.2942364798632886,
           1.3186692940991693,
           null,
           null,
           null,
           null
          ]
         },
         "hovertemplate": "num_samples=256<br>lime<br>n_evidence=%{x}<br>execution_time_mean=%{y}<extra></extra>",
         "legendgroup": "256, LIME",
         "line": {
          "color": "#d62728",
          "dash": "solid"
         },
         "marker": {
          "symbol": "circle"
         },
         "mode": "lines",
         "name": "256, LIME",
         "orientation": "v",
         "showlegend": true,
         "x": [
          2,
          3,
          4,
          5,
          6,
          7,
          8,
          9,
          10,
          11,
          12,
          13,
          15,
          19,
          20,
          23
         ],
         "xaxis": "x",
         "y": [
          2.847205275862069,
          3.0909103333333334,
          3.553338138888889,
          4.001425983333333,
          4.203078930232558,
          5.144842363636363,
          5.606347769230769,
          5.9502074,
          5.58612525,
          7.0693029245283014,
          6.52034425,
          6.999461999999999,
          5.380721,
          10.36407,
          7.383502,
          7.581312
         ],
         "yaxis": "y",
         "type": "scatter"
        },
        {
         "error_y": {
          "array": [
           0.25003411455519226,
           0.5406477457688859,
           0.8699068808175574,
           0.9836734874541581,
           1.1523157790666965,
           1.4704604710366815,
           1.8126208409856184,
           2.819272597324494,
           2.185740105443768,
           2.6257291720528793,
           2.4091642975115355,
           2.5493992533560723,
           null,
           null,
           null,
           null
          ]
         },
         "hovertemplate": "num_samples=256<br>shap<br>n_evidence=%{x}<br>execution_time_mean=%{y}<extra></extra>",
         "legendgroup": "256, SHAP",
         "line": {
          "color": "#d62728",
          "dash": "dot"
         },
         "marker": {
          "symbol": "circle"
         },
         "mode": "lines",
         "name": "256, SHAP",
         "orientation": "v",
         "showlegend": true,
         "x": [
          2,
          3,
          4,
          5,
          6,
          7,
          8,
          9,
          10,
          11,
          12,
          13,
          15,
          19,
          20,
          23
         ],
         "xaxis": "x",
         "y": [
          0.947699551724138,
          2.1293842222222223,
          2.686740763888889,
          3.0962563333333337,
          3.6298217674418605,
          4.234892090909091,
          5.685544923076923,
          9.2476106,
          7.082504999999999,
          13.66113775471698,
          7.91929975,
          6.5631715,
          5.56657,
          14.367751,
          14.184435,
          9.172083
         ],
         "yaxis": "y",
         "type": "scatter"
        },
        {
         "error_y": {
          "array": [
           2.477321053595308,
           2.754995322987289,
           3.9015782781636545,
           3.4661276448576395,
           3.234943149281502,
           4.20554745820002,
           3.9221920433622453,
           1.8513671050327376,
           5.162629785657135,
           4.081222375922698,
           2.518984361910503,
           9.178598158978419,
           null,
           null,
           null,
           null
          ]
         },
         "hovertemplate": "num_samples=512<br>lime<br>n_evidence=%{x}<br>execution_time_mean=%{y}<extra></extra>",
         "legendgroup": "512, LIME",
         "line": {
          "color": "#9467bd",
          "dash": "solid"
         },
         "marker": {
          "symbol": "circle"
         },
         "mode": "lines",
         "name": "512, LIME",
         "orientation": "v",
         "showlegend": true,
         "x": [
          2,
          3,
          4,
          5,
          6,
          7,
          8,
          9,
          10,
          11,
          12,
          13,
          15,
          19,
          20,
          23
         ],
         "xaxis": "x",
         "y": [
          4.902897931034483,
          5.9747057777777774,
          7.063275236111111,
          8.878562200000001,
          9.468525906976744,
          10.36698709090909,
          12.10922646153846,
          12.7055784,
          14.46185625,
          14.838018113207546,
          15.405492500000001,
          12.682456,
          16.660338,
          18.965681,
          19.996845,
          14.406288
         ],
         "yaxis": "y",
         "type": "scatter"
        },
        {
         "error_y": {
          "array": [
           0.49055042555009254,
           0.8951144318829906,
           0.969956127836742,
           0.9713458828130274,
           0.8533653769024225,
           1.1702391562396754,
           1.5867162738159697,
           0.9668145269644535,
           2.8488036267347243,
           2.6556257830213004,
           2.9329618062051206,
           5.734092230308167,
           null,
           null,
           null,
           null
          ]
         },
         "hovertemplate": "num_samples=512<br>shap<br>n_evidence=%{x}<br>execution_time_mean=%{y}<extra></extra>",
         "legendgroup": "512, SHAP",
         "line": {
          "color": "#9467bd",
          "dash": "dot"
         },
         "marker": {
          "symbol": "circle"
         },
         "mode": "lines",
         "name": "512, SHAP",
         "orientation": "v",
         "showlegend": true,
         "x": [
          2,
          3,
          4,
          5,
          6,
          7,
          8,
          9,
          10,
          11,
          12,
          13,
          15,
          19,
          20,
          23
         ],
         "xaxis": "x",
         "y": [
          1.2040686551724138,
          2.3206498611111113,
          2.3692133055555558,
          2.5278219,
          2.8228202558139532,
          3.3013335,
          4.383230538461539,
          4.9620429999999995,
          9.55340825,
          12.505665273584906,
          10.756043,
          10.4164475,
          11.403964,
          11.850921,
          13.123201,
          14.887047
         ],
         "yaxis": "y",
         "type": "scatter"
        },
        {
         "error_y": {
          "array": [
           1.6360021449222837,
           2.961331891457135,
           3.6836537311643345,
           3.3694350399873505,
           3.9233460190456317,
           5.686169680541396,
           7.12453145098361,
           3.8032614772085815,
           6.686837092240297,
           4.977290447807348,
           5.646599518083843,
           12.53626430385115,
           null,
           null,
           null,
           null
          ]
         },
         "hovertemplate": "num_samples=1024<br>lime<br>n_evidence=%{x}<br>execution_time_mean=%{y}<extra></extra>",
         "legendgroup": "1024, LIME",
         "line": {
          "color": "#8c564b",
          "dash": "solid"
         },
         "marker": {
          "symbol": "circle"
         },
         "mode": "lines",
         "name": "1024, LIME",
         "orientation": "v",
         "showlegend": true,
         "x": [
          2,
          3,
          4,
          5,
          6,
          7,
          8,
          9,
          10,
          11,
          12,
          13,
          15,
          19,
          20,
          23
         ],
         "xaxis": "x",
         "y": [
          6.056583206896552,
          7.3502076388888895,
          8.093274083333334,
          9.220083566666666,
          10.719026511627908,
          13.143577181818182,
          14.81443853846154,
          14.424631399999999,
          18.702251,
          21.86975325471698,
          18.887741,
          19.1075835,
          16.327247,
          21.069844,
          20.419711,
          34.980826
         ],
         "yaxis": "y",
         "type": "scatter"
        },
        {
         "error_y": {
          "array": [
           0.5989781213514824,
           1.1958970265179303,
           1.1542458385421177,
           1.3250237209105,
           1.047856574772111,
           1.0123916171857223,
           1.1656471582646806,
           1.9783243328638755,
           1.873451721416203,
           4.623282879876161,
           6.036702930601989,
           11.297844558348839,
           null,
           null,
           null,
           null
          ]
         },
         "hovertemplate": "num_samples=1024<br>shap<br>n_evidence=%{x}<br>execution_time_mean=%{y}<extra></extra>",
         "legendgroup": "1024, SHAP",
         "line": {
          "color": "#8c564b",
          "dash": "dot"
         },
         "marker": {
          "symbol": "circle"
         },
         "mode": "lines",
         "name": "1024, SHAP",
         "orientation": "v",
         "showlegend": true,
         "x": [
          2,
          3,
          4,
          5,
          6,
          7,
          8,
          9,
          10,
          11,
          12,
          13,
          15,
          19,
          20,
          23
         ],
         "xaxis": "x",
         "y": [
          1.2044505862068966,
          2.472028472222222,
          2.539504916666667,
          2.84378795,
          2.9472489534883723,
          3.0412382727272727,
          4.462739230769231,
          6.2157176,
          9.963583,
          21.65026366037736,
          18.864857999999998,
          19.0025105,
          16.391437,
          21.223552,
          22.173976,
          24.626839
         ],
         "yaxis": "y",
         "type": "scatter"
        },
        {
         "error_y": {
          "array": [
           2.9915412417547427,
           6.0029448162533035,
           7.213964112148154,
           6.427636436041149,
           6.467352477902447,
           8.745692976078244,
           12.870061214646075,
           8.739174767855447,
           10.664340892518927,
           9.562954514248526,
           10.87630864413354,
           23.10883367937764,
           null,
           null,
           null,
           null
          ]
         },
         "hovertemplate": "num_samples=2048<br>lime<br>n_evidence=%{x}<br>execution_time_mean=%{y}<extra></extra>",
         "legendgroup": "2048, LIME",
         "line": {
          "color": "#e377c2",
          "dash": "solid"
         },
         "marker": {
          "symbol": "circle"
         },
         "mode": "lines",
         "name": "2048, LIME",
         "orientation": "v",
         "showlegend": true,
         "x": [
          2,
          3,
          4,
          5,
          6,
          7,
          8,
          9,
          10,
          11,
          12,
          13,
          15,
          19,
          20,
          23
         ],
         "xaxis": "x",
         "y": [
          10.215582310344828,
          12.71119611111111,
          14.21552675,
          15.8533592,
          18.696489139534883,
          20.643271545454546,
          26.626192384615386,
          27.246702600000003,
          30.062209,
          41.9470292735849,
          34.590936,
          36.702991,
          30.746735,
          40.451309,
          41.158248,
          47.270307
         ],
         "yaxis": "y",
         "type": "scatter"
        },
        {
         "error_y": {
          "array": [
           0.46189159846901423,
           0.48990001371107467,
           0.8582190813869827,
           0.9034956932098583,
           1.138482391822768,
           1.0593894076213446,
           0.9050015443015794,
           1.3868878679295957,
           3.1955269244282705,
           4.8642461090593265,
           11.662440778503766,
           23.004355116923417,
           null,
           null,
           null,
           null
          ]
         },
         "hovertemplate": "num_samples=2048<br>shap<br>n_evidence=%{x}<br>execution_time_mean=%{y}<extra></extra>",
         "legendgroup": "2048, SHAP",
         "line": {
          "color": "#e377c2",
          "dash": "dot"
         },
         "marker": {
          "symbol": "circle"
         },
         "mode": "lines",
         "name": "2048, SHAP",
         "orientation": "v",
         "showlegend": true,
         "x": [
          2,
          3,
          4,
          5,
          6,
          7,
          8,
          9,
          10,
          11,
          12,
          13,
          15,
          19,
          20,
          23
         ],
         "xaxis": "x",
         "y": [
          1.1921417586206897,
          2.1280020555555557,
          2.318851375,
          2.5829193166666666,
          2.9584864418604653,
          3.125474272727273,
          3.874178076923077,
          5.7115936,
          10.070262,
          22.30315569811321,
          36.02604525,
          36.760966499999995,
          31.065882,
          40.871677,
          39.195064,
          47.72567
         ],
         "yaxis": "y",
         "type": "scatter"
        },
        {
         "error_y": {
          "array": [
           6.340644624747967,
           11.599736033267103,
           13.349199640937636,
           15.960811841167894,
           12.816222977442612,
           17.230362309765066,
           26.44841864754508,
           20.185812711711378,
           20.901860142781533,
           18.510390915282454,
           22.31937501987159,
           59.78563298326951,
           null,
           null,
           null,
           null
          ]
         },
         "hovertemplate": "num_samples=4096<br>lime<br>n_evidence=%{x}<br>execution_time_mean=%{y}<extra></extra>",
         "legendgroup": "4096, LIME",
         "line": {
          "color": "#7f7f7f",
          "dash": "solid"
         },
         "marker": {
          "symbol": "circle"
         },
         "mode": "lines",
         "name": "4096, LIME",
         "orientation": "v",
         "showlegend": true,
         "x": [
          2,
          3,
          4,
          5,
          6,
          7,
          8,
          9,
          10,
          11,
          12,
          13,
          15,
          19,
          20,
          23
         ],
         "xaxis": "x",
         "y": [
          18.868472172413792,
          23.905972000000002,
          26.623288777777777,
          31.959684583333335,
          36.5722621627907,
          39.48553786363636,
          52.38629676923077,
          57.340451800000004,
          59.955147999999994,
          81.86251017924529,
          69.38977650000001,
          81.6301655,
          59.468474,
          80.54624,
          78.7806,
          98.540052
         ],
         "yaxis": "y",
         "type": "scatter"
        },
        {
         "error_y": {
          "array": [
           0.45557289121370337,
           0.8684129043668859,
           0.6898800650626218,
           0.8781722388040275,
           1.3566650900848274,
           3.9320380828283525,
           1.1142821965931073,
           1.2464221314961073,
           2.393209456477918,
           4.76461605412887,
           11.543688706822472,
           47.05996729965043,
           null,
           null,
           null,
           null
          ]
         },
         "hovertemplate": "num_samples=4096<br>shap<br>n_evidence=%{x}<br>execution_time_mean=%{y}<extra></extra>",
         "legendgroup": "4096, SHAP",
         "line": {
          "color": "#7f7f7f",
          "dash": "dot"
         },
         "marker": {
          "symbol": "circle"
         },
         "mode": "lines",
         "name": "4096, SHAP",
         "orientation": "v",
         "showlegend": true,
         "x": [
          2,
          3,
          4,
          5,
          6,
          7,
          8,
          9,
          10,
          11,
          12,
          13,
          15,
          19,
          20,
          23
         ],
         "xaxis": "x",
         "y": [
          1.3917282068965517,
          2.608812611111111,
          2.531209402777778,
          3.0261973,
          3.499240279069767,
          4.877262772727272,
          4.985992230769231,
          6.5632404,
          10.594986,
          22.78384180188679,
          36.335364,
          72.318433,
          60.874288,
          81.588411,
          76.852789,
          94.498557
         ],
         "yaxis": "y",
         "type": "scatter"
        },
        {
         "error_y": {
          "array": [
           12.078617924205924,
           23.11815711656601,
           26.695523737328585,
           25.304794730816386,
           25.235313357478155,
           34.551561215211514,
           51.51101438697034,
           34.61911857208924,
           41.94510221714733,
           36.38130955071059,
           44.37225353568227,
           86.44745125683279,
           null,
           null,
           null,
           null
          ]
         },
         "hovertemplate": "num_samples=8192<br>lime<br>n_evidence=%{x}<br>execution_time_mean=%{y}<extra></extra>",
         "legendgroup": "8192, LIME",
         "line": {
          "color": "#bcbd22",
          "dash": "solid"
         },
         "marker": {
          "symbol": "circle"
         },
         "mode": "lines",
         "name": "8192, LIME",
         "orientation": "v",
         "showlegend": true,
         "x": [
          2,
          3,
          4,
          5,
          6,
          7,
          8,
          9,
          10,
          11,
          12,
          13,
          15,
          19,
          20,
          23
         ],
         "xaxis": "x",
         "y": [
          35.39866962068965,
          45.715267861111116,
          50.51672951388889,
          58.193063683333335,
          69.48466634883721,
          75.87514686363636,
          101.73159392307691,
          103.3638812,
          116.305285,
          160.1063236792453,
          134.53194425,
          142.571604,
          117.408206,
          157.141947,
          155.00313,
          184.586281
         ],
         "yaxis": "y",
         "type": "scatter"
        },
        {
         "error_y": {
          "array": [
           0.4203482478187411,
           0.40196059597054146,
           0.5880119673477877,
           0.6585930335534577,
           0.522737146312666,
           0.5227048288076983,
           0.9337355468306198,
           1.141230154115637,
           2.6118232096474134,
           4.621247428939272,
           10.938349824359937,
           46.03913774574806,
           null,
           null,
           null,
           null
          ]
         },
         "hovertemplate": "num_samples=8192<br>shap<br>n_evidence=%{x}<br>execution_time_mean=%{y}<extra></extra>",
         "legendgroup": "8192, SHAP",
         "line": {
          "color": "#bcbd22",
          "dash": "dot"
         },
         "marker": {
          "symbol": "circle"
         },
         "mode": "lines",
         "name": "8192, SHAP",
         "orientation": "v",
         "showlegend": true,
         "x": [
          2,
          3,
          4,
          5,
          6,
          7,
          8,
          9,
          10,
          11,
          12,
          13,
          15,
          19,
          20,
          23
         ],
         "xaxis": "x",
         "y": [
          1.1767859999999999,
          2.18065575,
          2.3599155972222223,
          2.5627951999999996,
          2.7882605581395348,
          3.0431661363636366,
          3.831156076923077,
          5.4909394,
          9.128981249999999,
          21.93976170754717,
          35.6311515,
          71.6921685,
          116.831785,
          158.063024,
          153.929035,
          186.010944
         ],
         "yaxis": "y",
         "type": "scatter"
        }
       ],
       "layout": {
        "template": {
         "layout": {
          "colorway": [
           "#1f77b4",
           "#ff7f0e",
           "#2ca02c",
           "#d62728",
           "#9467bd",
           "#8c564b",
           "#e377c2",
           "#7f7f7f",
           "#bcbd22",
           "#17becf"
          ]
         }
        },
        "xaxis": {
         "anchor": "y",
         "domain": [
          0.0,
          1.0
         ],
         "title": {
          "text": "n_evidence"
         }
        },
        "yaxis": {
         "anchor": "x",
         "domain": [
          0.0,
          1.0
         ],
         "title": {
          "text": "execution_time_mean"
         }
        },
        "legend": {
         "title": {
          "text": "num_samples, explainer_name"
         },
         "tracegroupgap": 0,
         "orientation": "h",
         "yanchor": "bottom",
         "y": 1.04,
         "xanchor": "right",
         "x": 1
        },
        "margin": {
         "b": 55,
         "l": 55,
         "pad": 2,
         "r": 25,
         "t": 50
        },
        "font": {
         "size": 16
        },
        "autosize": false,
        "width": 600,
        "height": 666.6666666666666,
        "title": {
         "text": ""
        }
       },
       "config": {
        "plotlyServerURL": "https://plot.ly"
       }
      },
      "text/html": [
       "<div>                            <div id=\"66888919-d31e-4fa6-9773-38a72d6a12eb\" class=\"plotly-graph-div\" style=\"height:666.6666666666666px; width:600px;\"></div>            <script type=\"text/javascript\">                require([\"plotly\"], function(Plotly) {                    window.PLOTLYENV=window.PLOTLYENV || {};                                    if (document.getElementById(\"66888919-d31e-4fa6-9773-38a72d6a12eb\")) {                    Plotly.newPlot(                        \"66888919-d31e-4fa6-9773-38a72d6a12eb\",                        [{\"error_y\":{\"array\":[0.47382117529790413,0.5136358041889298,0.5438152801458466,0.4818519730560094,0.45570766213692676,0.3814035124998923,0.4261730286050914,0.3738976866987814,0.42093742316920857,2.1312325911000074,0.20181712154737194,0.5223822056693739,null,null,null,null]},\"hovertemplate\":\"num_samples=32\\u003cbr\\u003elime\\u003cbr\\u003en_evidence=%{x}\\u003cbr\\u003eexecution_time_mean=%{y}\\u003cextra\\u003e\\u003c\\u002fextra\\u003e\",\"legendgroup\":\"32, LIME\",\"line\":{\"color\":\"#1f77b4\",\"dash\":\"solid\"},\"marker\":{\"symbol\":\"circle\"},\"mode\":\"lines\",\"name\":\"32, LIME\",\"orientation\":\"v\",\"showlegend\":true,\"x\":[2,3,4,5,6,7,8,9,10,11,12,13,15,19,20,23],\"xaxis\":\"x\",\"y\":[1.6787635172413793,1.7744446388888888,2.0617744166666667,2.2639942166666667,2.195612488372093,2.3190732727272727,2.3279484615384614,2.3994768,2.2991105000000003,2.4234031509433964,2.2144065,2.575952,2.251408,2.483403,2.865056,2.536638],\"yaxis\":\"y\",\"type\":\"scatter\"},{\"error_y\":{\"array\":[0.21176754102593826,0.4089487354468878,0.6110405662103088,1.0569022513369928,0.9937327284963567,0.6791838991843565,1.0322672718554333,1.4119737536000092,0.716623199835404,0.9577383981753385,0.9468370665940011,1.4975800376614268,null,null,null,null]},\"hovertemplate\":\"num_samples=32\\u003cbr\\u003eshap\\u003cbr\\u003en_evidence=%{x}\\u003cbr\\u003eexecution_time_mean=%{y}\\u003cextra\\u003e\\u003c\\u002fextra\\u003e\",\"legendgroup\":\"32, SHAP\",\"line\":{\"color\":\"#1f77b4\",\"dash\":\"dot\"},\"marker\":{\"symbol\":\"circle\"},\"mode\":\"lines\",\"name\":\"32, SHAP\",\"orientation\":\"v\",\"showlegend\":true,\"x\":[2,3,4,5,6,7,8,9,10,11,12,13,15,19,20,23],\"xaxis\":\"x\",\"y\":[1.5533436206896551,3.0937158611111113,3.2416404305555555,3.704353816666667,4.343550255813954,4.082107863636364,4.82520123076923,5.0141426000000004,4.7882005,5.057642594339622,5.3435265,5.220737,8.76934,5.106381,4.217299,4.750584],\"yaxis\":\"y\",\"type\":\"scatter\"},{\"error_y\":{\"array\":[0.3844432639618049,0.4226844170830917,0.5166824511888904,0.5918392786226048,0.6472756575118919,0.5057779436178712,0.775151786357083,0.15175805946571694,0.2626329536436418,0.44772384787287717,0.7782337544819039,0.3466279867783325,null,null,null,null]},\"hovertemplate\":\"num_samples=64\\u003cbr\\u003elime\\u003cbr\\u003en_evidence=%{x}\\u003cbr\\u003eexecution_time_mean=%{y}\\u003cextra\\u003e\\u003c\\u002fextra\\u003e\",\"legendgroup\":\"64, LIME\",\"line\":{\"color\":\"#ff7f0e\",\"dash\":\"solid\"},\"marker\":{\"symbol\":\"circle\"},\"mode\":\"lines\",\"name\":\"64, LIME\",\"orientation\":\"v\",\"showlegend\":true,\"x\":[2,3,4,5,6,7,8,9,10,11,12,13,15,19,20,23],\"xaxis\":\"x\",\"y\":[2.1392919655172413,2.206294611111111,2.0556610555555554,2.1491659833333334,2.236742023255814,2.0836613181818184,2.475057923076923,2.7667306,2.48046325,2.748351783018868,2.9138885,2.768163,1.888303,2.908491,2.905893,2.989847],\"yaxis\":\"y\",\"type\":\"scatter\"},{\"error_y\":{\"array\":[0.4245699726495306,0.6675484380985659,0.8234485741916784,1.706817965999347,0.8895527369404947,1.2153423540507002,1.6584714375420424,0.8418906696042545,0.5752098257268097,1.1209270434268137,0.7584805677226782,1.427620306944392,null,null,null,null]},\"hovertemplate\":\"num_samples=64\\u003cbr\\u003eshap\\u003cbr\\u003en_evidence=%{x}\\u003cbr\\u003eexecution_time_mean=%{y}\\u003cextra\\u003e\\u003c\\u002fextra\\u003e\",\"legendgroup\":\"64, SHAP\",\"line\":{\"color\":\"#ff7f0e\",\"dash\":\"dot\"},\"marker\":{\"symbol\":\"circle\"},\"mode\":\"lines\",\"name\":\"64, SHAP\",\"orientation\":\"v\",\"showlegend\":true,\"x\":[2,3,4,5,6,7,8,9,10,11,12,13,15,19,20,23],\"xaxis\":\"x\",\"y\":[1.7200808620689656,3.355275222222222,3.4761557916666668,3.9797537666666667,4.3633229069767445,4.837195545454545,5.6271404615384615,5.0568612,5.466538,6.227380584905661,6.63009675,5.144833,4.962119,6.575722,7.886891,6.723819],\"yaxis\":\"y\",\"type\":\"scatter\"},{\"error_y\":{\"array\":[0.4498650131525498,0.5830680074785173,1.0104705165679353,1.386562746925573,1.3706933291083294,1.7842348343210144,1.7284861565167586,1.294134280621219,0.8168099793037853,1.922774617047633,1.0061261294285708,3.5282019157186135,null,null,null,null]},\"hovertemplate\":\"num_samples=128\\u003cbr\\u003elime\\u003cbr\\u003en_evidence=%{x}\\u003cbr\\u003eexecution_time_mean=%{y}\\u003cextra\\u003e\\u003c\\u002fextra\\u003e\",\"legendgroup\":\"128, LIME\",\"line\":{\"color\":\"#2ca02c\",\"dash\":\"solid\"},\"marker\":{\"symbol\":\"circle\"},\"mode\":\"lines\",\"name\":\"128, LIME\",\"orientation\":\"v\",\"showlegend\":true,\"x\":[2,3,4,5,6,7,8,9,10,11,12,13,15,19,20,23],\"xaxis\":\"x\",\"y\":[2.3763626206896555,2.4596160555555553,2.4606801666666667,2.89291285,3.0791611395348837,3.7210028181818178,4.104743923076923,3.7657469999999997,3.83319775,5.275638773584906,3.77170275,5.1154545,6.726045,3.924713,3.328037,8.590381],\"yaxis\":\"y\",\"type\":\"scatter\"},{\"error_y\":{\"array\":[0.366869746894794,0.9819783164103072,1.0168670933896533,0.9919372000589762,2.473464423805181,1.1934283790726368,1.6455304942762805,1.2259087959353663,1.7647007361042608,1.6671740075766583,1.6731430169604697,4.247523966550159,null,null,null,null]},\"hovertemplate\":\"num_samples=128\\u003cbr\\u003eshap\\u003cbr\\u003en_evidence=%{x}\\u003cbr\\u003eexecution_time_mean=%{y}\\u003cextra\\u003e\\u003c\\u002fextra\\u003e\",\"legendgroup\":\"128, SHAP\",\"line\":{\"color\":\"#2ca02c\",\"dash\":\"dot\"},\"marker\":{\"symbol\":\"circle\"},\"mode\":\"lines\",\"name\":\"128, SHAP\",\"orientation\":\"v\",\"showlegend\":true,\"x\":[2,3,4,5,6,7,8,9,10,11,12,13,15,19,20,23],\"xaxis\":\"x\",\"y\":[1.7314343103448278,3.6392339166666665,3.6165126944444443,4.04945115,4.672970348837209,5.220454318181818,7.362700153846154,7.420244800000001,8.51728275,9.239428849056603,8.18823175,8.587458999999999,8.499301,8.160123,8.09726,8.828804],\"yaxis\":\"y\",\"type\":\"scatter\"},{\"error_y\":{\"array\":[0.526158000125227,0.9479189540859042,1.1600967428924376,1.2046667353870322,1.3491674839109626,2.2257107146292574,1.9357139845710314,1.1491721933815227,1.5787717828648482,1.1799226510799017,1.2942364798632886,1.3186692940991693,null,null,null,null]},\"hovertemplate\":\"num_samples=256\\u003cbr\\u003elime\\u003cbr\\u003en_evidence=%{x}\\u003cbr\\u003eexecution_time_mean=%{y}\\u003cextra\\u003e\\u003c\\u002fextra\\u003e\",\"legendgroup\":\"256, LIME\",\"line\":{\"color\":\"#d62728\",\"dash\":\"solid\"},\"marker\":{\"symbol\":\"circle\"},\"mode\":\"lines\",\"name\":\"256, LIME\",\"orientation\":\"v\",\"showlegend\":true,\"x\":[2,3,4,5,6,7,8,9,10,11,12,13,15,19,20,23],\"xaxis\":\"x\",\"y\":[2.847205275862069,3.0909103333333334,3.553338138888889,4.001425983333333,4.203078930232558,5.144842363636363,5.606347769230769,5.9502074,5.58612525,7.0693029245283014,6.52034425,6.999461999999999,5.380721,10.36407,7.383502,7.581312],\"yaxis\":\"y\",\"type\":\"scatter\"},{\"error_y\":{\"array\":[0.25003411455519226,0.5406477457688859,0.8699068808175574,0.9836734874541581,1.1523157790666965,1.4704604710366815,1.8126208409856184,2.819272597324494,2.185740105443768,2.6257291720528793,2.4091642975115355,2.5493992533560723,null,null,null,null]},\"hovertemplate\":\"num_samples=256\\u003cbr\\u003eshap\\u003cbr\\u003en_evidence=%{x}\\u003cbr\\u003eexecution_time_mean=%{y}\\u003cextra\\u003e\\u003c\\u002fextra\\u003e\",\"legendgroup\":\"256, SHAP\",\"line\":{\"color\":\"#d62728\",\"dash\":\"dot\"},\"marker\":{\"symbol\":\"circle\"},\"mode\":\"lines\",\"name\":\"256, SHAP\",\"orientation\":\"v\",\"showlegend\":true,\"x\":[2,3,4,5,6,7,8,9,10,11,12,13,15,19,20,23],\"xaxis\":\"x\",\"y\":[0.947699551724138,2.1293842222222223,2.686740763888889,3.0962563333333337,3.6298217674418605,4.234892090909091,5.685544923076923,9.2476106,7.082504999999999,13.66113775471698,7.91929975,6.5631715,5.56657,14.367751,14.184435,9.172083],\"yaxis\":\"y\",\"type\":\"scatter\"},{\"error_y\":{\"array\":[2.477321053595308,2.754995322987289,3.9015782781636545,3.4661276448576395,3.234943149281502,4.20554745820002,3.9221920433622453,1.8513671050327376,5.162629785657135,4.081222375922698,2.518984361910503,9.178598158978419,null,null,null,null]},\"hovertemplate\":\"num_samples=512\\u003cbr\\u003elime\\u003cbr\\u003en_evidence=%{x}\\u003cbr\\u003eexecution_time_mean=%{y}\\u003cextra\\u003e\\u003c\\u002fextra\\u003e\",\"legendgroup\":\"512, LIME\",\"line\":{\"color\":\"#9467bd\",\"dash\":\"solid\"},\"marker\":{\"symbol\":\"circle\"},\"mode\":\"lines\",\"name\":\"512, LIME\",\"orientation\":\"v\",\"showlegend\":true,\"x\":[2,3,4,5,6,7,8,9,10,11,12,13,15,19,20,23],\"xaxis\":\"x\",\"y\":[4.902897931034483,5.9747057777777774,7.063275236111111,8.878562200000001,9.468525906976744,10.36698709090909,12.10922646153846,12.7055784,14.46185625,14.838018113207546,15.405492500000001,12.682456,16.660338,18.965681,19.996845,14.406288],\"yaxis\":\"y\",\"type\":\"scatter\"},{\"error_y\":{\"array\":[0.49055042555009254,0.8951144318829906,0.969956127836742,0.9713458828130274,0.8533653769024225,1.1702391562396754,1.5867162738159697,0.9668145269644535,2.8488036267347243,2.6556257830213004,2.9329618062051206,5.734092230308167,null,null,null,null]},\"hovertemplate\":\"num_samples=512\\u003cbr\\u003eshap\\u003cbr\\u003en_evidence=%{x}\\u003cbr\\u003eexecution_time_mean=%{y}\\u003cextra\\u003e\\u003c\\u002fextra\\u003e\",\"legendgroup\":\"512, SHAP\",\"line\":{\"color\":\"#9467bd\",\"dash\":\"dot\"},\"marker\":{\"symbol\":\"circle\"},\"mode\":\"lines\",\"name\":\"512, SHAP\",\"orientation\":\"v\",\"showlegend\":true,\"x\":[2,3,4,5,6,7,8,9,10,11,12,13,15,19,20,23],\"xaxis\":\"x\",\"y\":[1.2040686551724138,2.3206498611111113,2.3692133055555558,2.5278219,2.8228202558139532,3.3013335,4.383230538461539,4.9620429999999995,9.55340825,12.505665273584906,10.756043,10.4164475,11.403964,11.850921,13.123201,14.887047],\"yaxis\":\"y\",\"type\":\"scatter\"},{\"error_y\":{\"array\":[1.6360021449222837,2.961331891457135,3.6836537311643345,3.3694350399873505,3.9233460190456317,5.686169680541396,7.12453145098361,3.8032614772085815,6.686837092240297,4.977290447807348,5.646599518083843,12.53626430385115,null,null,null,null]},\"hovertemplate\":\"num_samples=1024\\u003cbr\\u003elime\\u003cbr\\u003en_evidence=%{x}\\u003cbr\\u003eexecution_time_mean=%{y}\\u003cextra\\u003e\\u003c\\u002fextra\\u003e\",\"legendgroup\":\"1024, LIME\",\"line\":{\"color\":\"#8c564b\",\"dash\":\"solid\"},\"marker\":{\"symbol\":\"circle\"},\"mode\":\"lines\",\"name\":\"1024, LIME\",\"orientation\":\"v\",\"showlegend\":true,\"x\":[2,3,4,5,6,7,8,9,10,11,12,13,15,19,20,23],\"xaxis\":\"x\",\"y\":[6.056583206896552,7.3502076388888895,8.093274083333334,9.220083566666666,10.719026511627908,13.143577181818182,14.81443853846154,14.424631399999999,18.702251,21.86975325471698,18.887741,19.1075835,16.327247,21.069844,20.419711,34.980826],\"yaxis\":\"y\",\"type\":\"scatter\"},{\"error_y\":{\"array\":[0.5989781213514824,1.1958970265179303,1.1542458385421177,1.3250237209105,1.047856574772111,1.0123916171857223,1.1656471582646806,1.9783243328638755,1.873451721416203,4.623282879876161,6.036702930601989,11.297844558348839,null,null,null,null]},\"hovertemplate\":\"num_samples=1024\\u003cbr\\u003eshap\\u003cbr\\u003en_evidence=%{x}\\u003cbr\\u003eexecution_time_mean=%{y}\\u003cextra\\u003e\\u003c\\u002fextra\\u003e\",\"legendgroup\":\"1024, SHAP\",\"line\":{\"color\":\"#8c564b\",\"dash\":\"dot\"},\"marker\":{\"symbol\":\"circle\"},\"mode\":\"lines\",\"name\":\"1024, SHAP\",\"orientation\":\"v\",\"showlegend\":true,\"x\":[2,3,4,5,6,7,8,9,10,11,12,13,15,19,20,23],\"xaxis\":\"x\",\"y\":[1.2044505862068966,2.472028472222222,2.539504916666667,2.84378795,2.9472489534883723,3.0412382727272727,4.462739230769231,6.2157176,9.963583,21.65026366037736,18.864857999999998,19.0025105,16.391437,21.223552,22.173976,24.626839],\"yaxis\":\"y\",\"type\":\"scatter\"},{\"error_y\":{\"array\":[2.9915412417547427,6.0029448162533035,7.213964112148154,6.427636436041149,6.467352477902447,8.745692976078244,12.870061214646075,8.739174767855447,10.664340892518927,9.562954514248526,10.87630864413354,23.10883367937764,null,null,null,null]},\"hovertemplate\":\"num_samples=2048\\u003cbr\\u003elime\\u003cbr\\u003en_evidence=%{x}\\u003cbr\\u003eexecution_time_mean=%{y}\\u003cextra\\u003e\\u003c\\u002fextra\\u003e\",\"legendgroup\":\"2048, LIME\",\"line\":{\"color\":\"#e377c2\",\"dash\":\"solid\"},\"marker\":{\"symbol\":\"circle\"},\"mode\":\"lines\",\"name\":\"2048, LIME\",\"orientation\":\"v\",\"showlegend\":true,\"x\":[2,3,4,5,6,7,8,9,10,11,12,13,15,19,20,23],\"xaxis\":\"x\",\"y\":[10.215582310344828,12.71119611111111,14.21552675,15.8533592,18.696489139534883,20.643271545454546,26.626192384615386,27.246702600000003,30.062209,41.9470292735849,34.590936,36.702991,30.746735,40.451309,41.158248,47.270307],\"yaxis\":\"y\",\"type\":\"scatter\"},{\"error_y\":{\"array\":[0.46189159846901423,0.48990001371107467,0.8582190813869827,0.9034956932098583,1.138482391822768,1.0593894076213446,0.9050015443015794,1.3868878679295957,3.1955269244282705,4.8642461090593265,11.662440778503766,23.004355116923417,null,null,null,null]},\"hovertemplate\":\"num_samples=2048\\u003cbr\\u003eshap\\u003cbr\\u003en_evidence=%{x}\\u003cbr\\u003eexecution_time_mean=%{y}\\u003cextra\\u003e\\u003c\\u002fextra\\u003e\",\"legendgroup\":\"2048, SHAP\",\"line\":{\"color\":\"#e377c2\",\"dash\":\"dot\"},\"marker\":{\"symbol\":\"circle\"},\"mode\":\"lines\",\"name\":\"2048, SHAP\",\"orientation\":\"v\",\"showlegend\":true,\"x\":[2,3,4,5,6,7,8,9,10,11,12,13,15,19,20,23],\"xaxis\":\"x\",\"y\":[1.1921417586206897,2.1280020555555557,2.318851375,2.5829193166666666,2.9584864418604653,3.125474272727273,3.874178076923077,5.7115936,10.070262,22.30315569811321,36.02604525,36.760966499999995,31.065882,40.871677,39.195064,47.72567],\"yaxis\":\"y\",\"type\":\"scatter\"},{\"error_y\":{\"array\":[6.340644624747967,11.599736033267103,13.349199640937636,15.960811841167894,12.816222977442612,17.230362309765066,26.44841864754508,20.185812711711378,20.901860142781533,18.510390915282454,22.31937501987159,59.78563298326951,null,null,null,null]},\"hovertemplate\":\"num_samples=4096\\u003cbr\\u003elime\\u003cbr\\u003en_evidence=%{x}\\u003cbr\\u003eexecution_time_mean=%{y}\\u003cextra\\u003e\\u003c\\u002fextra\\u003e\",\"legendgroup\":\"4096, LIME\",\"line\":{\"color\":\"#7f7f7f\",\"dash\":\"solid\"},\"marker\":{\"symbol\":\"circle\"},\"mode\":\"lines\",\"name\":\"4096, LIME\",\"orientation\":\"v\",\"showlegend\":true,\"x\":[2,3,4,5,6,7,8,9,10,11,12,13,15,19,20,23],\"xaxis\":\"x\",\"y\":[18.868472172413792,23.905972000000002,26.623288777777777,31.959684583333335,36.5722621627907,39.48553786363636,52.38629676923077,57.340451800000004,59.955147999999994,81.86251017924529,69.38977650000001,81.6301655,59.468474,80.54624,78.7806,98.540052],\"yaxis\":\"y\",\"type\":\"scatter\"},{\"error_y\":{\"array\":[0.45557289121370337,0.8684129043668859,0.6898800650626218,0.8781722388040275,1.3566650900848274,3.9320380828283525,1.1142821965931073,1.2464221314961073,2.393209456477918,4.76461605412887,11.543688706822472,47.05996729965043,null,null,null,null]},\"hovertemplate\":\"num_samples=4096\\u003cbr\\u003eshap\\u003cbr\\u003en_evidence=%{x}\\u003cbr\\u003eexecution_time_mean=%{y}\\u003cextra\\u003e\\u003c\\u002fextra\\u003e\",\"legendgroup\":\"4096, SHAP\",\"line\":{\"color\":\"#7f7f7f\",\"dash\":\"dot\"},\"marker\":{\"symbol\":\"circle\"},\"mode\":\"lines\",\"name\":\"4096, SHAP\",\"orientation\":\"v\",\"showlegend\":true,\"x\":[2,3,4,5,6,7,8,9,10,11,12,13,15,19,20,23],\"xaxis\":\"x\",\"y\":[1.3917282068965517,2.608812611111111,2.531209402777778,3.0261973,3.499240279069767,4.877262772727272,4.985992230769231,6.5632404,10.594986,22.78384180188679,36.335364,72.318433,60.874288,81.588411,76.852789,94.498557],\"yaxis\":\"y\",\"type\":\"scatter\"},{\"error_y\":{\"array\":[12.078617924205924,23.11815711656601,26.695523737328585,25.304794730816386,25.235313357478155,34.551561215211514,51.51101438697034,34.61911857208924,41.94510221714733,36.38130955071059,44.37225353568227,86.44745125683279,null,null,null,null]},\"hovertemplate\":\"num_samples=8192\\u003cbr\\u003elime\\u003cbr\\u003en_evidence=%{x}\\u003cbr\\u003eexecution_time_mean=%{y}\\u003cextra\\u003e\\u003c\\u002fextra\\u003e\",\"legendgroup\":\"8192, LIME\",\"line\":{\"color\":\"#bcbd22\",\"dash\":\"solid\"},\"marker\":{\"symbol\":\"circle\"},\"mode\":\"lines\",\"name\":\"8192, LIME\",\"orientation\":\"v\",\"showlegend\":true,\"x\":[2,3,4,5,6,7,8,9,10,11,12,13,15,19,20,23],\"xaxis\":\"x\",\"y\":[35.39866962068965,45.715267861111116,50.51672951388889,58.193063683333335,69.48466634883721,75.87514686363636,101.73159392307691,103.3638812,116.305285,160.1063236792453,134.53194425,142.571604,117.408206,157.141947,155.00313,184.586281],\"yaxis\":\"y\",\"type\":\"scatter\"},{\"error_y\":{\"array\":[0.4203482478187411,0.40196059597054146,0.5880119673477877,0.6585930335534577,0.522737146312666,0.5227048288076983,0.9337355468306198,1.141230154115637,2.6118232096474134,4.621247428939272,10.938349824359937,46.03913774574806,null,null,null,null]},\"hovertemplate\":\"num_samples=8192\\u003cbr\\u003eshap\\u003cbr\\u003en_evidence=%{x}\\u003cbr\\u003eexecution_time_mean=%{y}\\u003cextra\\u003e\\u003c\\u002fextra\\u003e\",\"legendgroup\":\"8192, SHAP\",\"line\":{\"color\":\"#bcbd22\",\"dash\":\"dot\"},\"marker\":{\"symbol\":\"circle\"},\"mode\":\"lines\",\"name\":\"8192, SHAP\",\"orientation\":\"v\",\"showlegend\":true,\"x\":[2,3,4,5,6,7,8,9,10,11,12,13,15,19,20,23],\"xaxis\":\"x\",\"y\":[1.1767859999999999,2.18065575,2.3599155972222223,2.5627951999999996,2.7882605581395348,3.0431661363636366,3.831156076923077,5.4909394,9.128981249999999,21.93976170754717,35.6311515,71.6921685,116.831785,158.063024,153.929035,186.010944],\"yaxis\":\"y\",\"type\":\"scatter\"}],                        {\"template\":{\"layout\":{\"colorway\":[\"#1f77b4\",\"#ff7f0e\",\"#2ca02c\",\"#d62728\",\"#9467bd\",\"#8c564b\",\"#e377c2\",\"#7f7f7f\",\"#bcbd22\",\"#17becf\"]}},\"xaxis\":{\"anchor\":\"y\",\"domain\":[0.0,1.0],\"title\":{\"text\":\"n_evidence\"}},\"yaxis\":{\"anchor\":\"x\",\"domain\":[0.0,1.0],\"title\":{\"text\":\"execution_time_mean\"}},\"legend\":{\"title\":{\"text\":\"num_samples, explainer_name\"},\"tracegroupgap\":0,\"orientation\":\"h\",\"yanchor\":\"bottom\",\"y\":1.04,\"xanchor\":\"right\",\"x\":1},\"margin\":{\"b\":55,\"l\":55,\"pad\":2,\"r\":25,\"t\":50},\"font\":{\"size\":16},\"autosize\":false,\"width\":600,\"height\":666.6666666666666,\"title\":{\"text\":\"\"}},                        {\"responsive\": true}                    ).then(function(){\n",
       "                            \n",
       "var gd = document.getElementById('66888919-d31e-4fa6-9773-38a72d6a12eb');\n",
       "var x = new MutationObserver(function (mutations, observer) {{\n",
       "        var display = window.getComputedStyle(gd).display;\n",
       "        if (!display || display === 'none') {{\n",
       "            console.log([gd, 'removed!']);\n",
       "            Plotly.purge(gd);\n",
       "            observer.disconnect();\n",
       "        }}\n",
       "}});\n",
       "\n",
       "// Listen for the removal of the full notebook cells\n",
       "var notebookContainer = gd.closest('#notebook-container');\n",
       "if (notebookContainer) {{\n",
       "    x.observe(notebookContainer, {childList: true});\n",
       "}}\n",
       "\n",
       "// Listen for the clearing of the current output cell\n",
       "var outputEl = gd.closest('.output');\n",
       "if (outputEl) {{\n",
       "    x.observe(outputEl, {childList: true});\n",
       "}}\n",
       "\n",
       "                        })                };                });            </script>        </div>"
      ]
     },
     "metadata": {},
     "output_type": "display_data"
    }
   ],
   "execution_count": 31
  },
  {
   "metadata": {},
   "cell_type": "code",
   "outputs": [],
   "execution_count": null,
   "source": "",
   "id": "199a9b8f9e1611ff"
  }
 ],
 "metadata": {
  "kernelspec": {
   "display_name": "Python 3",
   "language": "python",
   "name": "python3"
  },
  "language_info": {
   "codemirror_mode": {
    "name": "ipython",
    "version": 2
   },
   "file_extension": ".py",
   "mimetype": "text/x-python",
   "name": "python",
   "nbconvert_exporter": "python",
   "pygments_lexer": "ipython2",
   "version": "2.7.6"
  }
 },
 "nbformat": 4,
 "nbformat_minor": 5
}
